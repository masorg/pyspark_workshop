{
 "cells": [
  {
   "cell_type": "markdown",
   "id": "1d9137d7-382e-46af-a261-f390bef3eb22",
   "metadata": {},
   "source": [
    "# **Data Processing and Analysis with PySpark**\n",
    "\n",
    "### **Overview**\n",
    "In this workshop, we will explore how to use PySpark for data processing and analysis on Cloudera CML. PySpark, a Python API for Apache Spark, enables scalable, distributed computing for big data. Running on Cloudera CML ensures seamless integration with enterprise-level data platforms.\n",
    "\n",
    "### **Dataset**\n",
    "We will be working with the **NYC Yellow Taxi Trip Data**, a publicly available dataset that provides detailed records of taxi trips in New York City. The dataset includes information such as:\n",
    "- **Pickup and drop-off locations** (latitude/longitude).\n",
    "- **Trip duration and distance**.\n",
    "- **Passenger count**.\n",
    "- **Fare amount** and other payment details.\n",
    "- **...**\n",
    "\n",
    "### **Agenda**\n",
    "- **Data Exploration**: Understand the structure and schema of the dataset.\n",
    "- **Data Cleaning**: Handle missing values and inconsistent data.\n",
    "- **Data Analysis**: Perform operations to derive insights, such as:\n",
    "   - Calculating average trip distances.\n",
    "   - Analyzing trip fares based on passenger counts.\n",
    "   - Identifying patterns in pickup and drop-off locations.\n",
    "- **Spark SQL**:\n",
    "- **Build Machine Learning Model**: Build a supervised predictive machine learning model\n",
    "- **Optimise model**: Improve model performance\n"
   ]
  },
  {
   "cell_type": "markdown",
   "id": "a1ece43a-66c0-4524-8dc6-52a7d93cf1dc",
   "metadata": {},
   "source": [
    "### **Spark Session**\n",
    "\n",
    "#### **Overview**\n",
    "`SparkSession` is the primary entry point for interacting with Apache Spark, introduced in **Spark 2.0**. It unifies all Spark functionalities, including working with **RDDs**, **DataFrames**, **Datasets**, and **Spark SQL**, replacing older entry points like `SQLContext`, `HiveContext`, and `SparkContext`.\n",
    "\n",
    "#### **Key Features**\n",
    "1. **Unified Interface**: Provides a single API to handle structured and unstructured data processing.\n",
    "2. **Cluster Connection**: Manages the connection to the cluster manager (e.g., YARN, Mesos, Kubernetes).\n",
    "3. **Configuration Management**: Allows setting Spark configurations programmatically.\n",
    "4. **Encapsulation**:\n",
    "   - Includes `SparkContext`, accessible via `spark.sparkContext`.\n",
    "   - Supports SQL capabilities with `spark.sql`.\n",
    "\n",
    "#### **Key Methods**\n",
    "- **Session Management**:\n",
    "  - `builder`: Used to create and configure the `SparkSession`.\n",
    "  - `stop()`: Terminates the session.\n",
    "- **Data Operations**:\n",
    "  - `read`/`write`: For loading and saving data in various formats.\n",
    "  - `createDataFrame`: Creates DataFrames from RDDs or other data.\n",
    "\n",
    "#### **Advantages**\n",
    "- Simplifies Spark application development.\n",
    "- Reduces boilerplate by combining multiple contexts.\n",
    "- Standardizes APIs for structured and semi-structured data."
   ]
  },
  {
   "cell_type": "code",
   "execution_count": 1,
   "id": "f0ccf12a-b23f-4b89-a5e0-f3ad2f90aaa0",
   "metadata": {},
   "outputs": [],
   "source": [
    "# Enable auto-reload\n",
    "%load_ext autoreload\n",
    "%autoreload 2\n",
    "\n",
    "import pandas as pd\n",
    "\n",
    "# Adjust pandas display settings\n",
    "pd.set_option(\"display.max_rows\", None)  # Show all rows\n",
    "pd.set_option(\"display.max_columns\", None)  # Show all columns\n",
    "pd.set_option(\"display.width\", None)  # Adjust the display width to fit the content\n",
    "pd.set_option(\"display.colheader_justify\", \"left\")  # Align headers to the left\n",
    "pd.set_option(\"display.max_colwidth\", None)  # Don't truncate column content"
   ]
  },
  {
   "cell_type": "code",
   "execution_count": 2,
   "id": "a400cfde-796f-4c6a-9979-a872418dd5b4",
   "metadata": {},
   "outputs": [],
   "source": [
    "import pprint\n",
    "from pyspark.sql.functions import col, when, count\n",
    "from pyspark.sql.types import DoubleType\n",
    "from tabulate import tabulate\n",
    "import pandas as pd\n",
    "from utils import Utils\n",
    "from pyspark.sql.types import TimestampType\n",
    "from pyspark.sql.functions import to_timestamp\n"
   ]
  },
  {
   "cell_type": "code",
   "execution_count": 3,
   "id": "f90846db-d444-4f55-855b-0cc926f80407",
   "metadata": {},
   "outputs": [
    {
     "name": "stderr",
     "output_type": "stream",
     "text": [
      "Setting spark.hadoop.yarn.resourcemanager.principal to csso_msaleem\n"
     ]
    },
    {
     "name": "stdout",
     "output_type": "stream",
     "text": [
      "Spark Version: 3.3.0.1.20.7216.0-70\n"
     ]
    },
    {
     "data": {
      "text/html": [
       "\n",
       "            <div>\n",
       "                <p><b>SparkSession - hive</b></p>\n",
       "                \n",
       "        <div>\n",
       "            <p><b>SparkContext</b></p>\n",
       "\n",
       "            <p><a href=\"http://100.100.3.199:20049\">Spark UI</a></p>\n",
       "\n",
       "            <dl>\n",
       "              <dt>Version</dt>\n",
       "                <dd><code>v3.3.0.1.20.7216.0-70</code></dd>\n",
       "              <dt>Master</dt>\n",
       "                <dd><code>k8s://https://172.20.0.1:443</code></dd>\n",
       "              <dt>AppName</dt>\n",
       "                <dd><code>nyc-pyspark-analysis</code></dd>\n",
       "            </dl>\n",
       "        </div>\n",
       "        \n",
       "            </div>\n",
       "        "
      ],
      "text/plain": [
       "<pyspark.sql.session.SparkSession at 0x7f9ae446edd0>"
      ]
     },
     "execution_count": 3,
     "metadata": {},
     "output_type": "execute_result"
    }
   ],
   "source": [
    "from pyspark.sql import SparkSession\n",
    "\n",
    "\n",
    "spark = SparkSession \\\n",
    "    .builder \\\n",
    "    .appName(\"nyc-pyspark-analysis\") \\\n",
    "    .config(\"spark.executor.memory\", \"4g\") \\\n",
    "    .config(\"spark.executor.cores\", \"2\") \\\n",
    "    .config(\"spark.executor.instances\", \"4\") \\\n",
    "    .config(\"spark.driver.memory\", \"2g\") \\\n",
    "    .config(\"spark.dynamicAllocation.enabled\", \"true\") \\\n",
    "    .config(\"spark.dynamicAllocation.minExecutors\", \"2\") \\\n",
    "    .config(\"spark.dynamicAllocation.maxExecutors\", \"8\") \\\n",
    "    .getOrCreate()\n",
    "\n",
    "# Verify Spark Session\n",
    "print(f\"Spark Version: {spark.version}\")\n",
    "spark"
   ]
  },
  {
   "cell_type": "markdown",
   "id": "98494e3b-f65f-460c-81d7-bda2a6b0308c",
   "metadata": {},
   "source": [
    "## Read Data"
   ]
  },
  {
   "cell_type": "code",
   "execution_count": 4,
   "id": "0974355f-06e7-4a1b-85af-55f891050a5b",
   "metadata": {},
   "outputs": [
    {
     "name": "stderr",
     "output_type": "stream",
     "text": [
      "                                                                                \r"
     ]
    },
    {
     "name": "stdout",
     "output_type": "stream",
     "text": [
      "Schema of the DataFrame:\n",
      "root\n",
      " |-- VendorID: integer (nullable = true)\n",
      " |-- tpep_pickup_datetime: timestamp (nullable = true)\n",
      " |-- tpep_dropoff_datetime: timestamp (nullable = true)\n",
      " |-- passenger_count: double (nullable = true)\n",
      " |-- trip_distance: double (nullable = true)\n",
      " |-- RatecodeID: double (nullable = true)\n",
      " |-- store_and_fwd_flag: string (nullable = true)\n",
      " |-- PULocationID: integer (nullable = true)\n",
      " |-- DOLocationID: integer (nullable = true)\n",
      " |-- payment_type: long (nullable = true)\n",
      " |-- fare_amount: double (nullable = true)\n",
      " |-- extra: double (nullable = true)\n",
      " |-- mta_tax: double (nullable = true)\n",
      " |-- tip_amount: double (nullable = true)\n",
      " |-- tolls_amount: double (nullable = true)\n",
      " |-- improvement_surcharge: double (nullable = true)\n",
      " |-- total_amount: double (nullable = true)\n",
      " |-- congestion_surcharge: double (nullable = true)\n",
      " |-- Airport_fee: double (nullable = true)\n",
      "\n",
      "Sample Data:\n"
     ]
    },
    {
     "name": "stderr",
     "output_type": "stream",
     "text": [
      "                                                                                \r"
     ]
    },
    {
     "data": {
      "text/html": [
       "<div>\n",
       "<style scoped>\n",
       "    .dataframe tbody tr th:only-of-type {\n",
       "        vertical-align: middle;\n",
       "    }\n",
       "\n",
       "    .dataframe tbody tr th {\n",
       "        vertical-align: top;\n",
       "    }\n",
       "\n",
       "    .dataframe thead th {\n",
       "        text-align: right;\n",
       "    }\n",
       "</style>\n",
       "<table border=\"1\" class=\"dataframe\">\n",
       "  <thead>\n",
       "    <tr style=\"text-align: left;\">\n",
       "      <th></th>\n",
       "      <th>VendorID</th>\n",
       "      <th>tpep_pickup_datetime</th>\n",
       "      <th>tpep_dropoff_datetime</th>\n",
       "      <th>passenger_count</th>\n",
       "      <th>trip_distance</th>\n",
       "      <th>RatecodeID</th>\n",
       "      <th>store_and_fwd_flag</th>\n",
       "      <th>PULocationID</th>\n",
       "      <th>DOLocationID</th>\n",
       "      <th>payment_type</th>\n",
       "      <th>fare_amount</th>\n",
       "      <th>extra</th>\n",
       "      <th>mta_tax</th>\n",
       "      <th>tip_amount</th>\n",
       "      <th>tolls_amount</th>\n",
       "      <th>improvement_surcharge</th>\n",
       "      <th>total_amount</th>\n",
       "      <th>congestion_surcharge</th>\n",
       "      <th>Airport_fee</th>\n",
       "    </tr>\n",
       "  </thead>\n",
       "  <tbody>\n",
       "    <tr>\n",
       "      <th>0</th>\n",
       "      <td>2</td>\n",
       "      <td>2024-01-01 00:57:55</td>\n",
       "      <td>2024-01-01 01:17:43</td>\n",
       "      <td>1.0</td>\n",
       "      <td>1.72</td>\n",
       "      <td>1.0</td>\n",
       "      <td>N</td>\n",
       "      <td>186</td>\n",
       "      <td>79</td>\n",
       "      <td>2</td>\n",
       "      <td>17.7</td>\n",
       "      <td>1.0</td>\n",
       "      <td>0.5</td>\n",
       "      <td>0.00</td>\n",
       "      <td>0.0</td>\n",
       "      <td>1.0</td>\n",
       "      <td>22.70</td>\n",
       "      <td>2.5</td>\n",
       "      <td>0.0</td>\n",
       "    </tr>\n",
       "    <tr>\n",
       "      <th>1</th>\n",
       "      <td>1</td>\n",
       "      <td>2024-01-01 00:03:00</td>\n",
       "      <td>2024-01-01 00:09:36</td>\n",
       "      <td>1.0</td>\n",
       "      <td>1.80</td>\n",
       "      <td>1.0</td>\n",
       "      <td>N</td>\n",
       "      <td>140</td>\n",
       "      <td>236</td>\n",
       "      <td>1</td>\n",
       "      <td>10.0</td>\n",
       "      <td>3.5</td>\n",
       "      <td>0.5</td>\n",
       "      <td>3.75</td>\n",
       "      <td>0.0</td>\n",
       "      <td>1.0</td>\n",
       "      <td>18.75</td>\n",
       "      <td>2.5</td>\n",
       "      <td>0.0</td>\n",
       "    </tr>\n",
       "    <tr>\n",
       "      <th>2</th>\n",
       "      <td>1</td>\n",
       "      <td>2024-01-01 00:17:06</td>\n",
       "      <td>2024-01-01 00:35:01</td>\n",
       "      <td>1.0</td>\n",
       "      <td>4.70</td>\n",
       "      <td>1.0</td>\n",
       "      <td>N</td>\n",
       "      <td>236</td>\n",
       "      <td>79</td>\n",
       "      <td>1</td>\n",
       "      <td>23.3</td>\n",
       "      <td>3.5</td>\n",
       "      <td>0.5</td>\n",
       "      <td>3.00</td>\n",
       "      <td>0.0</td>\n",
       "      <td>1.0</td>\n",
       "      <td>31.30</td>\n",
       "      <td>2.5</td>\n",
       "      <td>0.0</td>\n",
       "    </tr>\n",
       "    <tr>\n",
       "      <th>3</th>\n",
       "      <td>1</td>\n",
       "      <td>2024-01-01 00:36:38</td>\n",
       "      <td>2024-01-01 00:44:56</td>\n",
       "      <td>1.0</td>\n",
       "      <td>1.40</td>\n",
       "      <td>1.0</td>\n",
       "      <td>N</td>\n",
       "      <td>79</td>\n",
       "      <td>211</td>\n",
       "      <td>1</td>\n",
       "      <td>10.0</td>\n",
       "      <td>3.5</td>\n",
       "      <td>0.5</td>\n",
       "      <td>2.00</td>\n",
       "      <td>0.0</td>\n",
       "      <td>1.0</td>\n",
       "      <td>17.00</td>\n",
       "      <td>2.5</td>\n",
       "      <td>0.0</td>\n",
       "    </tr>\n",
       "    <tr>\n",
       "      <th>4</th>\n",
       "      <td>1</td>\n",
       "      <td>2024-01-01 00:46:51</td>\n",
       "      <td>2024-01-01 00:52:57</td>\n",
       "      <td>1.0</td>\n",
       "      <td>0.80</td>\n",
       "      <td>1.0</td>\n",
       "      <td>N</td>\n",
       "      <td>211</td>\n",
       "      <td>148</td>\n",
       "      <td>1</td>\n",
       "      <td>7.9</td>\n",
       "      <td>3.5</td>\n",
       "      <td>0.5</td>\n",
       "      <td>3.20</td>\n",
       "      <td>0.0</td>\n",
       "      <td>1.0</td>\n",
       "      <td>16.10</td>\n",
       "      <td>2.5</td>\n",
       "      <td>0.0</td>\n",
       "    </tr>\n",
       "  </tbody>\n",
       "</table>\n",
       "</div>"
      ],
      "text/plain": [
       "   VendorID tpep_pickup_datetime tpep_dropoff_datetime  passenger_count  \\\n",
       "0  2         2024-01-01 00:57:55  2024-01-01 01:17:43   1.0               \n",
       "1  1         2024-01-01 00:03:00  2024-01-01 00:09:36   1.0               \n",
       "2  1         2024-01-01 00:17:06  2024-01-01 00:35:01   1.0               \n",
       "3  1         2024-01-01 00:36:38  2024-01-01 00:44:56   1.0               \n",
       "4  1         2024-01-01 00:46:51  2024-01-01 00:52:57   1.0               \n",
       "\n",
       "   trip_distance  RatecodeID store_and_fwd_flag  PULocationID  DOLocationID  \\\n",
       "0  1.72           1.0         N                  186            79            \n",
       "1  1.80           1.0         N                  140           236            \n",
       "2  4.70           1.0         N                  236            79            \n",
       "3  1.40           1.0         N                   79           211            \n",
       "4  0.80           1.0         N                  211           148            \n",
       "\n",
       "   payment_type  fare_amount  extra  mta_tax  tip_amount  tolls_amount  \\\n",
       "0  2             17.7         1.0    0.5      0.00        0.0            \n",
       "1  1             10.0         3.5    0.5      3.75        0.0            \n",
       "2  1             23.3         3.5    0.5      3.00        0.0            \n",
       "3  1             10.0         3.5    0.5      2.00        0.0            \n",
       "4  1              7.9         3.5    0.5      3.20        0.0            \n",
       "\n",
       "   improvement_surcharge  total_amount  congestion_surcharge  Airport_fee  \n",
       "0  1.0                    22.70         2.5                   0.0          \n",
       "1  1.0                    18.75         2.5                   0.0          \n",
       "2  1.0                    31.30         2.5                   0.0          \n",
       "3  1.0                    17.00         2.5                   0.0          \n",
       "4  1.0                    16.10         2.5                   0.0          "
      ]
     },
     "execution_count": 4,
     "metadata": {},
     "output_type": "execute_result"
    }
   ],
   "source": [
    "# Read the Parquet file into a DataFrame\n",
    "file_path = \"/home/cdsw/data/snappy/yellow_tripdata_2024-01_snappy.parquet\"\n",
    "df = spark.read.parquet(file_path) ## reading parquet file\n",
    "\n",
    "from pyspark.sql.functions import col\n",
    "\n",
    "\n",
    "# Display the schema of the DataFrame\n",
    "print(\"Schema of the DataFrame:\")\n",
    "df.printSchema()\n",
    "\n",
    "# Convert timestamp columns to string in PySpark \n",
    "df = df\\\n",
    "    .withColumn(\"tpep_pickup_datetime\", col(\"tpep_pickup_datetime\").cast(\"string\"))\\\n",
    "    .withColumn(\"tpep_dropoff_datetime\", col(\"tpep_dropoff_datetime\").cast(\"string\"))\n",
    "\n",
    "# Show a sample of data (first 5 rows)\n",
    "print(\"Sample Data:\")\n",
    "Utils.display(df.limit(5))\n",
    "\n",
    "# Data dictionary:\n",
    "# https://www.nyc.gov/assets/tlc/downloads/pdf/data_dictionary_trip_records_yellow.pdf\n"
   ]
  },
  {
   "cell_type": "markdown",
   "id": "c48743fd-c4dd-4aac-9723-684ed0c1b9b3",
   "metadata": {},
   "source": [
    "### Data Cleaning\n",
    "\n",
    "Data cleaning is a crucial step in data analysis to ensure the dataset is free from inconsistencies, missing values, or incorrect data. For the NYC taxi dataset, the cleaning process will involve the following steps:\n",
    "\n",
    "\n",
    "#### **Handle Missing or Null Values**\n",
    "   - Identify columns with null or missing values.\n",
    "   - Decide on a strategy for handling them:\n",
    "     - Fill with default values."
   ]
  },
  {
   "cell_type": "code",
   "execution_count": 5,
   "id": "10b0d128-6981-4ae4-9862-58a40c70d529",
   "metadata": {},
   "outputs": [
    {
     "name": "stdout",
     "output_type": "stream",
     "text": [
      "Step 1: Count of Null Values in Each Column:\n"
     ]
    },
    {
     "name": "stderr",
     "output_type": "stream",
     "text": [
      "[Stage 3:===================================================>       (7 + 1) / 8]\r"
     ]
    },
    {
     "name": "stdout",
     "output_type": "stream",
     "text": [
      "-RECORD 0-----------------------\n",
      " VendorID              | 0      \n",
      " tpep_pickup_datetime  | 0      \n",
      " tpep_dropoff_datetime | 0      \n",
      " passenger_count       | 140162 \n",
      " trip_distance         | 0      \n",
      " RatecodeID            | 140162 \n",
      " store_and_fwd_flag    | 140162 \n",
      " PULocationID          | 0      \n",
      " DOLocationID          | 0      \n",
      " payment_type          | 0      \n",
      " fare_amount           | 0      \n",
      " extra                 | 0      \n",
      " mta_tax               | 0      \n",
      " tip_amount            | 0      \n",
      " tolls_amount          | 0      \n",
      " improvement_surcharge | 0      \n",
      " total_amount          | 0      \n",
      " congestion_surcharge  | 140162 \n",
      " Airport_fee           | 140162 \n",
      "\n"
     ]
    },
    {
     "name": "stderr",
     "output_type": "stream",
     "text": [
      "                                                                                \r"
     ]
    }
   ],
   "source": [
    "# Step 1: Handle Missing or Null Values\n",
    "print(\"Step 1: Count of Null Values in Each Column:\")\n",
    "null_counts = df.select([count(when(col(c).isNull(), c)).alias(c) for c in df.columns])\n",
    "\n",
    "null_counts.show(vertical=True)"
   ]
  },
  {
   "cell_type": "markdown",
   "id": "e5b9c5a7-0803-4446-904f-97c4daac55c1",
   "metadata": {},
   "source": [
    "#### **Remove Duplicates**\n",
    "   - Check if there are duplicate rows in the dataset and remove them."
   ]
  },
  {
   "cell_type": "code",
   "execution_count": 6,
   "id": "b89cc0aa-fc20-4318-9003-4650d5deb358",
   "metadata": {},
   "outputs": [
    {
     "name": "stderr",
     "output_type": "stream",
     "text": [
      "[Stage 11:=============================================>            (7 + 2) / 9]\r"
     ]
    },
    {
     "name": "stdout",
     "output_type": "stream",
     "text": [
      "Count without duplicates :2964624, count after removing duplicates:2964624\n"
     ]
    },
    {
     "name": "stderr",
     "output_type": "stream",
     "text": [
      "                                                                                \r"
     ]
    }
   ],
   "source": [
    "count_with_dups = df.count()\n",
    "\n",
    "df = df.dropDuplicates()\n",
    "\n",
    "count_without_dups = df.count()\n",
    "\n",
    "print(f\"Count without duplicates :{count_with_dups}, count after removing duplicates:{count_without_dups}\")\n",
    "\n",
    "\n",
    "# Remove duplicates from some columns\n",
    "\n",
    "# df_columns_dedup = df.dropDuplicates([\"column1\", \"column2\"])\n"
   ]
  },
  {
   "cell_type": "markdown",
   "id": "b6e50a8b-5f18-4848-b187-c440756fa974",
   "metadata": {},
   "source": [
    "#### **Filter Out Invalid or Outlier Data**\n",
    "   - Remove trips with:\n",
    "     - Zero or negative trip distances.\n",
    "     - Negative or zero `total_amount`.\n",
    "   - Filter rows with invalid passenger counts (e.g., `passenger_count` <= 0)."
   ]
  },
  {
   "cell_type": "code",
   "execution_count": 7,
   "id": "8c9d1063-4f1c-41dc-b17e-9e05aef6989f",
   "metadata": {},
   "outputs": [
    {
     "name": "stderr",
     "output_type": "stream",
     "text": [
      "                                                                                \r"
     ]
    },
    {
     "data": {
      "text/plain": [
       "2724017"
      ]
     },
     "execution_count": 7,
     "metadata": {},
     "output_type": "execute_result"
    }
   ],
   "source": [
    "df = df.filter(\n",
    "    (col(\"trip_distance\") > 0) &\n",
    "    (col(\"total_amount\") > 0) &\n",
    "    (col(\"passenger_count\") > 0)\n",
    ")\n",
    "df.count()"
   ]
  },
  {
   "cell_type": "markdown",
   "id": "b1539bba-0d70-4619-914b-77010ece90ec",
   "metadata": {},
   "source": [
    "#### **Standardize Data Formats**\n",
    "   - Convert categorical fields (e.g., `store_and_fwd_flag`) into consistent formats.\n",
    "   - Ensure that timestamp fields are in the correct datetime format."
   ]
  },
  {
   "cell_type": "code",
   "execution_count": 8,
   "id": "a231779f-2cec-46d7-bcb6-632f6cf115ef",
   "metadata": {},
   "outputs": [
    {
     "name": "stderr",
     "output_type": "stream",
     "text": [
      "[Stage 21:===========================================>              (6 + 2) / 8]\r"
     ]
    },
    {
     "name": "stdout",
     "output_type": "stream",
     "text": [
      "+------------------+\n",
      "|store_and_fwd_flag|\n",
      "+------------------+\n",
      "|                 N|\n",
      "|                 N|\n",
      "|                 N|\n",
      "|                 N|\n",
      "|                 N|\n",
      "+------------------+\n",
      "only showing top 5 rows\n",
      "\n"
     ]
    },
    {
     "name": "stderr",
     "output_type": "stream",
     "text": [
      "                                                                                \r"
     ]
    }
   ],
   "source": [
    "# Ensure `store_and_fwd_flag` is uppercase\n",
    "df = df.withColumn(\"store_and_fwd_flag\", when(col(\"store_and_fwd_flag\") == \"Y\", \"Y\").otherwise(\"N\"))\n",
    "df.select(\"store_and_fwd_flag\").show(5)"
   ]
  },
  {
   "cell_type": "markdown",
   "id": "928efcfc-d5eb-4097-bbd4-1d774fe405d4",
   "metadata": {},
   "source": [
    "#### **Additional Validations**\n",
    "   - Check for logical inconsistencies, such as:\n",
    "     - Pickup time being after the drop-off time."
   ]
  },
  {
   "cell_type": "code",
   "execution_count": 9,
   "id": "1d5feec0-bf05-49af-9606-5cb359249499",
   "metadata": {},
   "outputs": [
    {
     "name": "stderr",
     "output_type": "stream",
     "text": [
      "                                                                                \r"
     ]
    },
    {
     "name": "stdout",
     "output_type": "stream",
     "text": [
      "After Filtering out incorrect pickup/dropoff time records, count:2723962\n",
      "Schema After Cleaning:\n",
      "root\n",
      " |-- VendorID: integer (nullable = true)\n",
      " |-- tpep_pickup_datetime: string (nullable = true)\n",
      " |-- tpep_dropoff_datetime: string (nullable = true)\n",
      " |-- passenger_count: double (nullable = true)\n",
      " |-- trip_distance: double (nullable = true)\n",
      " |-- RatecodeID: double (nullable = true)\n",
      " |-- store_and_fwd_flag: string (nullable = false)\n",
      " |-- PULocationID: integer (nullable = true)\n",
      " |-- DOLocationID: integer (nullable = true)\n",
      " |-- payment_type: long (nullable = true)\n",
      " |-- fare_amount: double (nullable = true)\n",
      " |-- extra: double (nullable = true)\n",
      " |-- mta_tax: double (nullable = true)\n",
      " |-- tip_amount: double (nullable = true)\n",
      " |-- tolls_amount: double (nullable = true)\n",
      " |-- improvement_surcharge: double (nullable = true)\n",
      " |-- total_amount: double (nullable = true)\n",
      " |-- congestion_surcharge: double (nullable = true)\n",
      " |-- Airport_fee: double (nullable = true)\n",
      "\n",
      "Sample Data After Cleaning:\n"
     ]
    },
    {
     "name": "stderr",
     "output_type": "stream",
     "text": [
      "                                                                                \r"
     ]
    },
    {
     "data": {
      "text/html": [
       "<div>\n",
       "<style scoped>\n",
       "    .dataframe tbody tr th:only-of-type {\n",
       "        vertical-align: middle;\n",
       "    }\n",
       "\n",
       "    .dataframe tbody tr th {\n",
       "        vertical-align: top;\n",
       "    }\n",
       "\n",
       "    .dataframe thead th {\n",
       "        text-align: right;\n",
       "    }\n",
       "</style>\n",
       "<table border=\"1\" class=\"dataframe\">\n",
       "  <thead>\n",
       "    <tr style=\"text-align: left;\">\n",
       "      <th></th>\n",
       "      <th>VendorID</th>\n",
       "      <th>tpep_pickup_datetime</th>\n",
       "      <th>tpep_dropoff_datetime</th>\n",
       "      <th>passenger_count</th>\n",
       "      <th>trip_distance</th>\n",
       "      <th>RatecodeID</th>\n",
       "      <th>store_and_fwd_flag</th>\n",
       "      <th>PULocationID</th>\n",
       "      <th>DOLocationID</th>\n",
       "      <th>payment_type</th>\n",
       "      <th>fare_amount</th>\n",
       "      <th>extra</th>\n",
       "      <th>mta_tax</th>\n",
       "      <th>tip_amount</th>\n",
       "      <th>tolls_amount</th>\n",
       "      <th>improvement_surcharge</th>\n",
       "      <th>total_amount</th>\n",
       "      <th>congestion_surcharge</th>\n",
       "      <th>Airport_fee</th>\n",
       "    </tr>\n",
       "  </thead>\n",
       "  <tbody>\n",
       "    <tr>\n",
       "      <th>0</th>\n",
       "      <td>2</td>\n",
       "      <td>2024-01-13 03:07:43</td>\n",
       "      <td>2024-01-13 03:18:04</td>\n",
       "      <td>2.0</td>\n",
       "      <td>1.63</td>\n",
       "      <td>1.0</td>\n",
       "      <td>N</td>\n",
       "      <td>79</td>\n",
       "      <td>211</td>\n",
       "      <td>1</td>\n",
       "      <td>12.1</td>\n",
       "      <td>1.0</td>\n",
       "      <td>0.5</td>\n",
       "      <td>4.28</td>\n",
       "      <td>0.0</td>\n",
       "      <td>1.0</td>\n",
       "      <td>21.38</td>\n",
       "      <td>2.5</td>\n",
       "      <td>0.0</td>\n",
       "    </tr>\n",
       "    <tr>\n",
       "      <th>1</th>\n",
       "      <td>2</td>\n",
       "      <td>2024-01-13 03:42:49</td>\n",
       "      <td>2024-01-13 04:02:49</td>\n",
       "      <td>3.0</td>\n",
       "      <td>5.92</td>\n",
       "      <td>1.0</td>\n",
       "      <td>N</td>\n",
       "      <td>249</td>\n",
       "      <td>256</td>\n",
       "      <td>1</td>\n",
       "      <td>28.2</td>\n",
       "      <td>1.0</td>\n",
       "      <td>0.5</td>\n",
       "      <td>0.00</td>\n",
       "      <td>0.0</td>\n",
       "      <td>1.0</td>\n",
       "      <td>33.20</td>\n",
       "      <td>2.5</td>\n",
       "      <td>0.0</td>\n",
       "    </tr>\n",
       "    <tr>\n",
       "      <th>2</th>\n",
       "      <td>2</td>\n",
       "      <td>2024-01-13 03:34:59</td>\n",
       "      <td>2024-01-13 03:47:46</td>\n",
       "      <td>1.0</td>\n",
       "      <td>3.31</td>\n",
       "      <td>1.0</td>\n",
       "      <td>N</td>\n",
       "      <td>211</td>\n",
       "      <td>246</td>\n",
       "      <td>1</td>\n",
       "      <td>17.0</td>\n",
       "      <td>1.0</td>\n",
       "      <td>0.5</td>\n",
       "      <td>1.00</td>\n",
       "      <td>0.0</td>\n",
       "      <td>1.0</td>\n",
       "      <td>23.00</td>\n",
       "      <td>2.5</td>\n",
       "      <td>0.0</td>\n",
       "    </tr>\n",
       "    <tr>\n",
       "      <th>3</th>\n",
       "      <td>2</td>\n",
       "      <td>2024-01-13 03:15:46</td>\n",
       "      <td>2024-01-13 03:17:50</td>\n",
       "      <td>1.0</td>\n",
       "      <td>0.48</td>\n",
       "      <td>1.0</td>\n",
       "      <td>N</td>\n",
       "      <td>79</td>\n",
       "      <td>4</td>\n",
       "      <td>1</td>\n",
       "      <td>4.4</td>\n",
       "      <td>1.0</td>\n",
       "      <td>0.5</td>\n",
       "      <td>1.88</td>\n",
       "      <td>0.0</td>\n",
       "      <td>1.0</td>\n",
       "      <td>11.28</td>\n",
       "      <td>2.5</td>\n",
       "      <td>0.0</td>\n",
       "    </tr>\n",
       "    <tr>\n",
       "      <th>4</th>\n",
       "      <td>1</td>\n",
       "      <td>2024-01-13 03:22:48</td>\n",
       "      <td>2024-01-13 03:36:36</td>\n",
       "      <td>1.0</td>\n",
       "      <td>3.30</td>\n",
       "      <td>1.0</td>\n",
       "      <td>N</td>\n",
       "      <td>148</td>\n",
       "      <td>229</td>\n",
       "      <td>1</td>\n",
       "      <td>17.0</td>\n",
       "      <td>3.5</td>\n",
       "      <td>0.5</td>\n",
       "      <td>1.00</td>\n",
       "      <td>0.0</td>\n",
       "      <td>1.0</td>\n",
       "      <td>23.00</td>\n",
       "      <td>2.5</td>\n",
       "      <td>0.0</td>\n",
       "    </tr>\n",
       "  </tbody>\n",
       "</table>\n",
       "</div>"
      ],
      "text/plain": [
       "   VendorID tpep_pickup_datetime tpep_dropoff_datetime  passenger_count  \\\n",
       "0  2         2024-01-13 03:07:43  2024-01-13 03:18:04   2.0               \n",
       "1  2         2024-01-13 03:42:49  2024-01-13 04:02:49   3.0               \n",
       "2  2         2024-01-13 03:34:59  2024-01-13 03:47:46   1.0               \n",
       "3  2         2024-01-13 03:15:46  2024-01-13 03:17:50   1.0               \n",
       "4  1         2024-01-13 03:22:48  2024-01-13 03:36:36   1.0               \n",
       "\n",
       "   trip_distance  RatecodeID store_and_fwd_flag  PULocationID  DOLocationID  \\\n",
       "0  1.63           1.0         N                   79           211            \n",
       "1  5.92           1.0         N                  249           256            \n",
       "2  3.31           1.0         N                  211           246            \n",
       "3  0.48           1.0         N                   79             4            \n",
       "4  3.30           1.0         N                  148           229            \n",
       "\n",
       "   payment_type  fare_amount  extra  mta_tax  tip_amount  tolls_amount  \\\n",
       "0  1             12.1         1.0    0.5      4.28        0.0            \n",
       "1  1             28.2         1.0    0.5      0.00        0.0            \n",
       "2  1             17.0         1.0    0.5      1.00        0.0            \n",
       "3  1              4.4         1.0    0.5      1.88        0.0            \n",
       "4  1             17.0         3.5    0.5      1.00        0.0            \n",
       "\n",
       "   improvement_surcharge  total_amount  congestion_surcharge  Airport_fee  \n",
       "0  1.0                    21.38         2.5                   0.0          \n",
       "1  1.0                    33.20         2.5                   0.0          \n",
       "2  1.0                    23.00         2.5                   0.0          \n",
       "3  1.0                    11.28         2.5                   0.0          \n",
       "4  1.0                    23.00         2.5                   0.0          "
      ]
     },
     "execution_count": 9,
     "metadata": {},
     "output_type": "execute_result"
    }
   ],
   "source": [
    "# Ensure `trip_distance` is of type Double\n",
    "df = df.withColumn(\"trip_distance\", col(\"trip_distance\").cast(DoubleType()))\n",
    "\n",
    "# Step 5: Additional Validations\n",
    "# Filter out rows where pickup time is after dropoff time\n",
    "df = df.filter(col(\"tpep_pickup_datetime\") < col(\"tpep_dropoff_datetime\"))\n",
    "\n",
    "print(f\"After Filtering out incorrect pickup/dropoff time records, count:{df.count()}\")\n",
    "\n",
    "# Final schema and sample data after cleaning\n",
    "print(\"Schema After Cleaning:\")\n",
    "df.printSchema()\n",
    "\n",
    "print(\"Sample Data After Cleaning:\")\n",
    "Utils.display(df.limit(5))"
   ]
  },
  {
   "cell_type": "markdown",
   "id": "5fdfa3f7-d00f-4758-8925-0981cb5c1a2a",
   "metadata": {},
   "source": [
    "### **Exploratory Data Analysis (EDA)**\n",
    "\n",
    "#### **Distribution Analysis**\n",
    "   - Visualize distributions of key metrics like `trip_distance`, `fare_amount`, and `trip_duration_minutes`."
   ]
  },
  {
   "cell_type": "code",
   "execution_count": 10,
   "id": "ca1ffbb0-c4ed-4853-8539-7ea157ee0795",
   "metadata": {},
   "outputs": [
    {
     "name": "stderr",
     "output_type": "stream",
     "text": [
      "                                                                                \r"
     ]
    },
    {
     "data": {
      "image/png": "[encoded data removed]",
      "text/plain": [
       "<Figure size 432x288 with 1 Axes>"
      ]
     },
     "metadata": {
      "needs_background": "light"
     },
     "output_type": "display_data"
    }
   ],
   "source": [
    "import matplotlib.pyplot as plt\n",
    "data= df.toPandas()\n",
    "\n",
    "\n",
    "# Remove extreme outliers for trip distance using IQR\n",
    "Q1 = data['trip_distance'].quantile(0.25)\n",
    "Q3 = data['trip_distance'].quantile(0.75)\n",
    "IQR = Q3 - Q1\n",
    "data = data[(data['trip_distance'] >= (Q1 - 1.5 * IQR)) & (data['trip_distance'] <= (Q3 + 1.5 * IQR))]\n",
    "\n",
    "data['trip_distance'].hist(bins=50)\n",
    "plt.title('Trip Distance Distribution')\n",
    "plt.show()"
   ]
  },
  {
   "cell_type": "markdown",
   "id": "c01f7396-2094-4d37-aab9-5da3e6c85f7c",
   "metadata": {},
   "source": [
    "#### **Time Trends**\n",
    "   - Analyze how ride demand varies by hour, day, or month."
   ]
  },
  {
   "cell_type": "code",
   "execution_count": 11,
   "id": "0ff83d36-49d5-48a6-a220-5bde7ac6e9e0",
   "metadata": {},
   "outputs": [
    {
     "data": {
      "image/png": "[encoded data removed]",
      "text/plain": [
       "<Figure size 432x288 with 1 Axes>"
      ]
     },
     "metadata": {
      "needs_background": "light"
     },
     "output_type": "display_data"
    }
   ],
   "source": [
    "data['tpep_pickup_datetime'] = pd.to_datetime(data['tpep_pickup_datetime'], errors='coerce')\n",
    "data['tpep_dropoff_datetime'] = pd.to_datetime(data['tpep_dropoff_datetime'], errors='coerce')\n",
    "\n",
    "\n",
    "data['pickup_hour'] = data['tpep_pickup_datetime'].dt.hour\n",
    "data['pickup_day'] = data['tpep_pickup_datetime'].dt.day\n",
    "data['pickup_month'] = data['tpep_pickup_datetime'].dt.month\n",
    "data['pickup_day_of_week'] = data['tpep_pickup_datetime'].dt.dayofweek  # 0=Monday, 6=Sunday\n",
    "\n",
    "hourly_trends = data.groupby('pickup_hour').size()\n",
    "hourly_trends.plot(kind='bar', title='Hourly Trip Volume')\n",
    "plt.show()\n"
   ]
  },
  {
   "cell_type": "markdown",
   "id": "b2716596-b08c-4908-b477-0116d56db04b",
   "metadata": {},
   "source": [
    "#### **Correlation Analysis**\n",
    "   - Check correlations between numeric columns like `fare_amount`, `trip_distance`, and `trip_duration_minutes`."
   ]
  },
  {
   "cell_type": "code",
   "execution_count": 12,
   "id": "82993e7d-196d-474d-965f-34f09618a19e",
   "metadata": {},
   "outputs": [
    {
     "name": "stdout",
     "output_type": "stream",
     "text": [
      "                       trip_distance  fare_amount  trip_duration_minutes\n",
      "trip_distance          1.000000       0.772742     0.156094             \n",
      "fare_amount            0.772742       1.000000     0.169408             \n",
      "trip_duration_minutes  0.156094       0.169408     1.000000             \n"
     ]
    }
   ],
   "source": [
    "data['trip_duration_minutes'] = (data['tpep_dropoff_datetime'] - data['tpep_pickup_datetime']).dt.total_seconds() / 60\n",
    "print(data[['trip_distance', 'fare_amount', 'trip_duration_minutes']].corr())"
   ]
  },
  {
   "cell_type": "markdown",
   "id": "2aa5489a-1d98-4b09-b2dd-83611ae05499",
   "metadata": {},
   "source": [
    "#### **Heatmap of Pickup and Dropoff Locations**\n",
    "   - Create heatmaps to visualize frequently used pickup and dropoff zones."
   ]
  },
  {
   "cell_type": "code",
   "execution_count": 13,
   "id": "3a061ba9-8518-4278-8d09-44ea0696b795",
   "metadata": {},
   "outputs": [
    {
     "data": {
      "text/plain": [
       "<Axes: xlabel='DOLocationID', ylabel='PULocationID'>"
      ]
     },
     "execution_count": 13,
     "metadata": {},
     "output_type": "execute_result"
    },
    {
     "data": {
      "image/png": "[encoded data removed]",
      "text/plain": [
       "<Figure size 432x288 with 2 Axes>"
      ]
     },
     "metadata": {
      "needs_background": "light"
     },
     "output_type": "display_data"
    }
   ],
   "source": [
    "import seaborn as sns\n",
    "sns.heatmap(data.groupby(['PULocationID', 'DOLocationID']).size().unstack(), cmap='viridis')"
   ]
  },
  {
   "cell_type": "markdown",
   "id": "eaa187ae-a2d1-4f56-b546-2fe65a4bc52a",
   "metadata": {},
   "source": [
    "## Spark Dataframes"
   ]
  },
  {
   "cell_type": "markdown",
   "id": "99568b46-6864-4779-b009-aad6815cce37",
   "metadata": {},
   "source": [
    "### **Data Exploration (further)**\n",
    "\n",
    "#### **Describe Basic Statistics**\n"
   ]
  },
  {
   "cell_type": "code",
   "execution_count": 14,
   "id": "db89c901-cbf8-4119-b88b-ad4d4b207dba",
   "metadata": {},
   "outputs": [
    {
     "name": "stdout",
     "output_type": "stream",
     "text": [
      "Basic Statistics:\n"
     ]
    },
    {
     "name": "stderr",
     "output_type": "stream",
     "text": [
      "[Stage 38:=============================================>            (7 + 2) / 9]\r"
     ]
    },
    {
     "name": "stdout",
     "output_type": "stream",
     "text": [
      "+-------+------------------+------------------+------------------+\n",
      "|summary|     trip_distance|      total_amount|   passenger_count|\n",
      "+-------+------------------+------------------+------------------+\n",
      "|  count|           2723962|           2723962|           2723962|\n",
      "|   mean|3.3026129476108985|27.409650832134876|1.3547186047382453|\n",
      "| stddev|12.327432042874957|21.968201825628903|0.8447767579579177|\n",
      "|    min|              0.01|               1.0|               1.0|\n",
      "|    max|          15400.32|            2225.3|               9.0|\n",
      "+-------+------------------+------------------+------------------+\n",
      "\n"
     ]
    },
    {
     "name": "stderr",
     "output_type": "stream",
     "text": [
      "                                                                                \r"
     ]
    }
   ],
   "source": [
    "from pyspark.sql.functions import col, avg, sum, count, desc\n",
    "\n",
    "# Describe basic statistics for numerical columns\n",
    "print(\"Basic Statistics:\")\n",
    "df.describe([\"trip_distance\", \"total_amount\", \"passenger_count\"]).show()"
   ]
  },
  {
   "cell_type": "markdown",
   "id": "22994df7-c553-486b-95c6-a096963302c9",
   "metadata": {},
   "source": [
    "#### **Distribution and Summaries**"
   ]
  },
  {
   "cell_type": "code",
   "execution_count": 15,
   "id": "b74b7166-2e5e-4c0c-b90e-44b2f8aa655e",
   "metadata": {},
   "outputs": [
    {
     "name": "stdout",
     "output_type": "stream",
     "text": [
      "Distribution of Trip Distance:\n",
      "Minimum and Maximum Fare Amount per VendorID:\n"
     ]
    },
    {
     "name": "stderr",
     "output_type": "stream",
     "text": [
      "[Stage 42:==================================================>       (7 + 1) / 8]\r"
     ]
    },
    {
     "name": "stdout",
     "output_type": "stream",
     "text": [
      "+--------+--------+--------+\n",
      "|VendorID|min_fare|max_fare|\n",
      "+--------+--------+--------+\n",
      "|       1|     0.0|   650.0|\n",
      "|       2|     0.0|  2221.3|\n",
      "+--------+--------+--------+\n",
      "\n"
     ]
    },
    {
     "name": "stderr",
     "output_type": "stream",
     "text": [
      "                                                                                \r"
     ]
    }
   ],
   "source": [
    "\n",
    "# Distribution of trip_distance\n",
    "print(\"Distribution of Trip Distance:\")\n",
    "from pyspark.sql.functions import min, max\n",
    "\n",
    "# Calculate minimum and maximum fare amounts per VendorID\n",
    "print(\"Minimum and Maximum Fare Amount per VendorID:\")\n",
    "df.groupBy(\"VendorID\").agg(\n",
    "    min(\"fare_amount\").alias(\"min_fare\"),\n",
    "    max(\"fare_amount\").alias(\"max_fare\")\n",
    ").show()"
   ]
  },
  {
   "cell_type": "markdown",
   "id": "e1c4de90-2316-41db-ae09-121ae34ede49",
   "metadata": {},
   "source": [
    "### **Group By and Aggregations**\n",
    "\n",
    "#### **Revenue Analysis**"
   ]
  },
  {
   "cell_type": "code",
   "execution_count": 16,
   "id": "8e063361-9901-4df1-b98b-b460c18c4c86",
   "metadata": {},
   "outputs": [
    {
     "name": "stdout",
     "output_type": "stream",
     "text": [
      "Total Revenue per VendorID:\n"
     ]
    },
    {
     "name": "stderr",
     "output_type": "stream",
     "text": [
      "                                                                                \r"
     ]
    },
    {
     "name": "stdout",
     "output_type": "stream",
     "text": [
      "+--------+--------------------+\n",
      "|VendorID|       total_revenue|\n",
      "+--------+--------------------+\n",
      "|       1|1.6567504839999871E7|\n",
      "|       2|5.8095342460001245E7|\n",
      "+--------+--------------------+\n",
      "\n",
      "Revenue Contribution Percentage per VendorID:\n"
     ]
    },
    {
     "name": "stderr",
     "output_type": "stream",
     "text": [
      "[Stage 59:=============================================>            (7 + 2) / 9]\r"
     ]
    },
    {
     "name": "stdout",
     "output_type": "stream",
     "text": [
      "+--------+------------------+\n",
      "|VendorID|revenue_percentage|\n",
      "+--------+------------------+\n",
      "|       1| 22.18975760920262|\n",
      "|       2| 77.81024239079363|\n",
      "+--------+------------------+\n",
      "\n"
     ]
    },
    {
     "name": "stderr",
     "output_type": "stream",
     "text": [
      "                                                                                \r"
     ]
    }
   ],
   "source": [
    "# Total revenue per VendorID\n",
    "print(\"Total Revenue per VendorID:\")\n",
    "df.groupBy(\"VendorID\").agg(sum(\"total_amount\").alias(\"total_revenue\")).show()\n",
    "\n",
    "# Revenue contribution percentage per VendorID\n",
    "print(\"Revenue Contribution Percentage per VendorID:\")\n",
    "df.groupBy(\"VendorID\").agg(\n",
    "    (sum(\"total_amount\") / df.select(sum(\"total_amount\")).first()[0] * 100).alias(\"revenue_percentage\")\n",
    ").show()"
   ]
  },
  {
   "cell_type": "markdown",
   "id": "353f24aa-290c-4763-93ec-c3936c03321e",
   "metadata": {},
   "source": [
    "#### **Other Aggregations**"
   ]
  },
  {
   "cell_type": "code",
   "execution_count": 17,
   "id": "d298364d-3ec1-402a-806f-9ecb9fd6c202",
   "metadata": {},
   "outputs": [
    {
     "name": "stdout",
     "output_type": "stream",
     "text": [
      "Average Trip Distance and Fare by RatecodeID:\n"
     ]
    },
    {
     "name": "stderr",
     "output_type": "stream",
     "text": [
      "                                                                                \r"
     ]
    },
    {
     "name": "stdout",
     "output_type": "stream",
     "text": [
      "+----------+------------------+------------------+\n",
      "|RatecodeID|      avg_distance|          avg_fare|\n",
      "+----------+------------------+------------------+\n",
      "|       1.0|2.6087093096454987|15.793571558347919|\n",
      "|       4.0|23.221026190083993|109.66423982869382|\n",
      "|       3.0|17.413312780269063| 88.27899103139013|\n",
      "|       2.0|  18.0265387825864|   69.981278947819|\n",
      "|      99.0|  8.26642459542153| 33.52299185313525|\n",
      "|       5.0| 9.994501585863182| 81.41562188491173|\n",
      "|       6.0|              4.45|               2.5|\n",
      "+----------+------------------+------------------+\n",
      "\n",
      "Average Tip Amount by Passenger Count:\n"
     ]
    },
    {
     "name": "stderr",
     "output_type": "stream",
     "text": [
      "[Stage 71:=============================================>            (7 + 2) / 9]\r"
     ]
    },
    {
     "name": "stdout",
     "output_type": "stream",
     "text": [
      "+---------------+------------------+\n",
      "|passenger_count|           avg_tip|\n",
      "+---------------+------------------+\n",
      "|            8.0|13.671351351351353|\n",
      "|            7.0|            10.968|\n",
      "|            2.0|3.7567754206402606|\n",
      "|            3.0|3.5692249246954186|\n",
      "|            4.0| 3.468413380111295|\n",
      "|            1.0|3.4166200524832453|\n",
      "|            5.0|3.3936401849516535|\n",
      "|            6.0| 3.343943630214205|\n",
      "|            9.0|              3.05|\n",
      "+---------------+------------------+\n",
      "\n"
     ]
    },
    {
     "name": "stderr",
     "output_type": "stream",
     "text": [
      "                                                                                \r"
     ]
    }
   ],
   "source": [
    "# Average trip distance and fare by RatecodeID\n",
    "print(\"Average Trip Distance and Fare by RatecodeID:\")\n",
    "df.groupBy(\"RatecodeID\").agg(\n",
    "    avg(\"trip_distance\").alias(\"avg_distance\"),\n",
    "    avg(\"fare_amount\").alias(\"avg_fare\")\n",
    ").show()\n",
    "\n",
    "# Average tip amount by passenger count\n",
    "print(\"Average Tip Amount by Passenger Count:\")\n",
    "df.groupBy(\"passenger_count\").agg(\n",
    "    avg(\"tip_amount\").alias(\"avg_tip\")\n",
    ").sort(desc(\"avg_tip\")).show()"
   ]
  },
  {
   "cell_type": "markdown",
   "id": "de57a73e-0611-4890-b2ae-c45739c16de9",
   "metadata": {},
   "source": [
    "### **Time-Based Trends**\n",
    "\n",
    "#### **Adding Time Columns**"
   ]
  },
  {
   "cell_type": "code",
   "execution_count": 18,
   "id": "49dc29c0-90db-4a81-9952-5d2402f0e8b7",
   "metadata": {},
   "outputs": [
    {
     "name": "stdout",
     "output_type": "stream",
     "text": [
      "Most Popular Pickup Hours:\n"
     ]
    },
    {
     "name": "stderr",
     "output_type": "stream",
     "text": [
      "                                                                                \r"
     ]
    },
    {
     "name": "stdout",
     "output_type": "stream",
     "text": [
      "+----+------+\n",
      "|hour| count|\n",
      "+----+------+\n",
      "|  18|195924|\n",
      "|  17|191271|\n",
      "|  16|178416|\n",
      "|  15|176982|\n",
      "|  14|171278|\n",
      "+----+------+\n",
      "only showing top 5 rows\n",
      "\n",
      "Distribution of Rides by Day of the Week:\n"
     ]
    },
    {
     "name": "stderr",
     "output_type": "stream",
     "text": [
      "                                                                                \r"
     ]
    },
    {
     "name": "stdout",
     "output_type": "stream",
     "text": [
      "+-----------+------+\n",
      "|day_of_week| count|\n",
      "+-----------+------+\n",
      "|          1|306425|\n",
      "|          2|372444|\n",
      "|          3|425927|\n",
      "|          4|458809|\n",
      "|          5|397493|\n",
      "+-----------+------+\n",
      "only showing top 5 rows\n",
      "\n",
      "Monthly Trend in Total Revenue:\n"
     ]
    },
    {
     "name": "stderr",
     "output_type": "stream",
     "text": [
      "[Stage 89:=============================================>            (7 + 2) / 9]\r"
     ]
    },
    {
     "name": "stdout",
     "output_type": "stream",
     "text": [
      "+----+-----+-------------------+\n",
      "|year|month|      total_revenue|\n",
      "+----+-----+-------------------+\n",
      "|2002|   12|               10.5|\n",
      "|2009|    1| 127.69000000000001|\n",
      "|2023|   12|             224.62|\n",
      "|2024|    1|7.466239402000436E7|\n",
      "|2024|    2|              90.47|\n",
      "+----+-----+-------------------+\n",
      "\n"
     ]
    },
    {
     "name": "stderr",
     "output_type": "stream",
     "text": [
      "                                                                                \r"
     ]
    }
   ],
   "source": [
    "from pyspark.sql.functions import year, month, dayofweek, hour\n",
    "\n",
    "# Add columns for year, month, day of the week, and hour\n",
    "df = df.withColumn(\"year\", year(\"tpep_pickup_datetime\")) \\\n",
    "       .withColumn(\"month\", month(\"tpep_pickup_datetime\")) \\\n",
    "       .withColumn(\"day_of_week\", dayofweek(\"tpep_pickup_datetime\")) \\\n",
    "       .withColumn(\"hour\", hour(\"tpep_pickup_datetime\"))\n",
    "\n",
    "# Most popular pickup hours\n",
    "print(\"Most Popular Pickup Hours:\")\n",
    "df.groupBy(\"hour\").count().sort(desc(\"count\")).show(5)\n",
    "\n",
    "# Distribution of rides by day of the week\n",
    "print(\"Distribution of Rides by Day of the Week:\")\n",
    "df.groupBy(\"day_of_week\").count().sort(\"day_of_week\").show(5)\n",
    "\n",
    "# Monthly trend in total revenue\n",
    "print(\"Monthly Trend in Total Revenue:\")\n",
    "df.groupBy(\"year\", \"month\").agg(sum(\"total_amount\").alias(\"total_revenue\")).sort(\"year\", \"month\").show(5)"
   ]
  },
  {
   "cell_type": "markdown",
   "id": "97aef7cc-f1f9-4467-ba59-bf771228dc55",
   "metadata": {},
   "source": [
    "### **Advanced Filtering**"
   ]
  },
  {
   "cell_type": "code",
   "execution_count": 19,
   "id": "bc69ff15-ceea-4fea-a7dc-4d4b305604bd",
   "metadata": {},
   "outputs": [
    {
     "name": "stdout",
     "output_type": "stream",
     "text": [
      "Trips Longer than 10 Miles with Tips Greater than $10:\n"
     ]
    },
    {
     "name": "stderr",
     "output_type": "stream",
     "text": [
      "                                                                                \r"
     ]
    },
    {
     "data": {
      "text/html": [
       "<div>\n",
       "<style scoped>\n",
       "    .dataframe tbody tr th:only-of-type {\n",
       "        vertical-align: middle;\n",
       "    }\n",
       "\n",
       "    .dataframe tbody tr th {\n",
       "        vertical-align: top;\n",
       "    }\n",
       "\n",
       "    .dataframe thead th {\n",
       "        text-align: right;\n",
       "    }\n",
       "</style>\n",
       "<table border=\"1\" class=\"dataframe\">\n",
       "  <thead>\n",
       "    <tr style=\"text-align: left;\">\n",
       "      <th></th>\n",
       "      <th>VendorID</th>\n",
       "      <th>tpep_pickup_datetime</th>\n",
       "      <th>tpep_dropoff_datetime</th>\n",
       "      <th>passenger_count</th>\n",
       "      <th>trip_distance</th>\n",
       "      <th>RatecodeID</th>\n",
       "      <th>store_and_fwd_flag</th>\n",
       "      <th>PULocationID</th>\n",
       "      <th>DOLocationID</th>\n",
       "      <th>payment_type</th>\n",
       "      <th>fare_amount</th>\n",
       "      <th>extra</th>\n",
       "      <th>mta_tax</th>\n",
       "      <th>tip_amount</th>\n",
       "      <th>tolls_amount</th>\n",
       "      <th>improvement_surcharge</th>\n",
       "      <th>total_amount</th>\n",
       "      <th>congestion_surcharge</th>\n",
       "      <th>Airport_fee</th>\n",
       "      <th>year</th>\n",
       "      <th>month</th>\n",
       "      <th>day_of_week</th>\n",
       "      <th>hour</th>\n",
       "    </tr>\n",
       "  </thead>\n",
       "  <tbody>\n",
       "    <tr>\n",
       "      <th>0</th>\n",
       "      <td>2</td>\n",
       "      <td>2024-01-13 05:41:38</td>\n",
       "      <td>2024-01-13 06:12:44</td>\n",
       "      <td>2.0</td>\n",
       "      <td>18.64</td>\n",
       "      <td>2.0</td>\n",
       "      <td>N</td>\n",
       "      <td>132</td>\n",
       "      <td>148</td>\n",
       "      <td>1</td>\n",
       "      <td>70.0</td>\n",
       "      <td>0.0</td>\n",
       "      <td>0.5</td>\n",
       "      <td>14.80</td>\n",
       "      <td>0.00</td>\n",
       "      <td>1.0</td>\n",
       "      <td>90.55</td>\n",
       "      <td>2.5</td>\n",
       "      <td>1.75</td>\n",
       "      <td>2024</td>\n",
       "      <td>1</td>\n",
       "      <td>7</td>\n",
       "      <td>5</td>\n",
       "    </tr>\n",
       "    <tr>\n",
       "      <th>1</th>\n",
       "      <td>2</td>\n",
       "      <td>2024-01-13 08:20:20</td>\n",
       "      <td>2024-01-13 08:49:25</td>\n",
       "      <td>1.0</td>\n",
       "      <td>16.67</td>\n",
       "      <td>2.0</td>\n",
       "      <td>N</td>\n",
       "      <td>132</td>\n",
       "      <td>162</td>\n",
       "      <td>1</td>\n",
       "      <td>70.0</td>\n",
       "      <td>0.0</td>\n",
       "      <td>0.5</td>\n",
       "      <td>16.54</td>\n",
       "      <td>6.94</td>\n",
       "      <td>1.0</td>\n",
       "      <td>99.23</td>\n",
       "      <td>2.5</td>\n",
       "      <td>1.75</td>\n",
       "      <td>2024</td>\n",
       "      <td>1</td>\n",
       "      <td>7</td>\n",
       "      <td>8</td>\n",
       "    </tr>\n",
       "    <tr>\n",
       "      <th>2</th>\n",
       "      <td>2</td>\n",
       "      <td>2024-01-13 09:08:00</td>\n",
       "      <td>2024-01-13 09:34:28</td>\n",
       "      <td>6.0</td>\n",
       "      <td>12.27</td>\n",
       "      <td>1.0</td>\n",
       "      <td>N</td>\n",
       "      <td>138</td>\n",
       "      <td>50</td>\n",
       "      <td>1</td>\n",
       "      <td>48.5</td>\n",
       "      <td>5.0</td>\n",
       "      <td>0.5</td>\n",
       "      <td>13.24</td>\n",
       "      <td>6.94</td>\n",
       "      <td>1.0</td>\n",
       "      <td>79.43</td>\n",
       "      <td>2.5</td>\n",
       "      <td>1.75</td>\n",
       "      <td>2024</td>\n",
       "      <td>1</td>\n",
       "      <td>7</td>\n",
       "      <td>9</td>\n",
       "    </tr>\n",
       "    <tr>\n",
       "      <th>3</th>\n",
       "      <td>2</td>\n",
       "      <td>2024-01-13 12:55:58</td>\n",
       "      <td>2024-01-13 13:25:01</td>\n",
       "      <td>1.0</td>\n",
       "      <td>13.08</td>\n",
       "      <td>1.0</td>\n",
       "      <td>N</td>\n",
       "      <td>138</td>\n",
       "      <td>234</td>\n",
       "      <td>1</td>\n",
       "      <td>52.0</td>\n",
       "      <td>5.0</td>\n",
       "      <td>0.5</td>\n",
       "      <td>13.94</td>\n",
       "      <td>6.94</td>\n",
       "      <td>1.0</td>\n",
       "      <td>83.63</td>\n",
       "      <td>2.5</td>\n",
       "      <td>1.75</td>\n",
       "      <td>2024</td>\n",
       "      <td>1</td>\n",
       "      <td>7</td>\n",
       "      <td>12</td>\n",
       "    </tr>\n",
       "    <tr>\n",
       "      <th>4</th>\n",
       "      <td>2</td>\n",
       "      <td>2024-01-13 14:12:15</td>\n",
       "      <td>2024-01-13 14:49:02</td>\n",
       "      <td>1.0</td>\n",
       "      <td>18.28</td>\n",
       "      <td>2.0</td>\n",
       "      <td>N</td>\n",
       "      <td>132</td>\n",
       "      <td>41</td>\n",
       "      <td>1</td>\n",
       "      <td>70.0</td>\n",
       "      <td>0.0</td>\n",
       "      <td>0.5</td>\n",
       "      <td>15.69</td>\n",
       "      <td>6.94</td>\n",
       "      <td>1.0</td>\n",
       "      <td>95.88</td>\n",
       "      <td>0.0</td>\n",
       "      <td>1.75</td>\n",
       "      <td>2024</td>\n",
       "      <td>1</td>\n",
       "      <td>7</td>\n",
       "      <td>14</td>\n",
       "    </tr>\n",
       "  </tbody>\n",
       "</table>\n",
       "</div>"
      ],
      "text/plain": [
       "   VendorID tpep_pickup_datetime tpep_dropoff_datetime  passenger_count  \\\n",
       "0  2         2024-01-13 05:41:38  2024-01-13 06:12:44   2.0               \n",
       "1  2         2024-01-13 08:20:20  2024-01-13 08:49:25   1.0               \n",
       "2  2         2024-01-13 09:08:00  2024-01-13 09:34:28   6.0               \n",
       "3  2         2024-01-13 12:55:58  2024-01-13 13:25:01   1.0               \n",
       "4  2         2024-01-13 14:12:15  2024-01-13 14:49:02   1.0               \n",
       "\n",
       "   trip_distance  RatecodeID store_and_fwd_flag  PULocationID  DOLocationID  \\\n",
       "0  18.64          2.0         N                  132           148            \n",
       "1  16.67          2.0         N                  132           162            \n",
       "2  12.27          1.0         N                  138            50            \n",
       "3  13.08          1.0         N                  138           234            \n",
       "4  18.28          2.0         N                  132            41            \n",
       "\n",
       "   payment_type  fare_amount  extra  mta_tax  tip_amount  tolls_amount  \\\n",
       "0  1             70.0         0.0    0.5      14.80       0.00           \n",
       "1  1             70.0         0.0    0.5      16.54       6.94           \n",
       "2  1             48.5         5.0    0.5      13.24       6.94           \n",
       "3  1             52.0         5.0    0.5      13.94       6.94           \n",
       "4  1             70.0         0.0    0.5      15.69       6.94           \n",
       "\n",
       "   improvement_surcharge  total_amount  congestion_surcharge  Airport_fee  \\\n",
       "0  1.0                    90.55         2.5                   1.75          \n",
       "1  1.0                    99.23         2.5                   1.75          \n",
       "2  1.0                    79.43         2.5                   1.75          \n",
       "3  1.0                    83.63         2.5                   1.75          \n",
       "4  1.0                    95.88         0.0                   1.75          \n",
       "\n",
       "   year  month  day_of_week  hour  \n",
       "0  2024  1      7             5    \n",
       "1  2024  1      7             8    \n",
       "2  2024  1      7             9    \n",
       "3  2024  1      7            12    \n",
       "4  2024  1      7            14    "
      ]
     },
     "execution_count": 19,
     "metadata": {},
     "output_type": "execute_result"
    }
   ],
   "source": [
    "# Trips longer than 10 miles with a tip greater than $10\n",
    "print(\"Trips Longer than 10 Miles with Tips Greater than $10:\")\n",
    "Utils.display(df.filter((col(\"trip_distance\") > 10) & (col(\"tip_amount\") > 10)).limit(10))\n"
   ]
  },
  {
   "cell_type": "code",
   "execution_count": 20,
   "id": "1274d246-e7ca-48b4-bcf7-ce95619771cb",
   "metadata": {},
   "outputs": [
    {
     "name": "stdout",
     "output_type": "stream",
     "text": [
      "Peak Hour Trips (7-9 AM and 4-6 PM):\n"
     ]
    },
    {
     "name": "stderr",
     "output_type": "stream",
     "text": [
      "                                                                                \r"
     ]
    },
    {
     "data": {
      "text/html": [
       "<div>\n",
       "<style scoped>\n",
       "    .dataframe tbody tr th:only-of-type {\n",
       "        vertical-align: middle;\n",
       "    }\n",
       "\n",
       "    .dataframe tbody tr th {\n",
       "        vertical-align: top;\n",
       "    }\n",
       "\n",
       "    .dataframe thead th {\n",
       "        text-align: right;\n",
       "    }\n",
       "</style>\n",
       "<table border=\"1\" class=\"dataframe\">\n",
       "  <thead>\n",
       "    <tr style=\"text-align: left;\">\n",
       "      <th></th>\n",
       "      <th>VendorID</th>\n",
       "      <th>tpep_pickup_datetime</th>\n",
       "      <th>tpep_dropoff_datetime</th>\n",
       "      <th>passenger_count</th>\n",
       "      <th>trip_distance</th>\n",
       "      <th>RatecodeID</th>\n",
       "      <th>store_and_fwd_flag</th>\n",
       "      <th>PULocationID</th>\n",
       "      <th>DOLocationID</th>\n",
       "      <th>payment_type</th>\n",
       "      <th>fare_amount</th>\n",
       "      <th>extra</th>\n",
       "      <th>mta_tax</th>\n",
       "      <th>tip_amount</th>\n",
       "      <th>tolls_amount</th>\n",
       "      <th>improvement_surcharge</th>\n",
       "      <th>total_amount</th>\n",
       "      <th>congestion_surcharge</th>\n",
       "      <th>Airport_fee</th>\n",
       "      <th>year</th>\n",
       "      <th>month</th>\n",
       "      <th>day_of_week</th>\n",
       "      <th>hour</th>\n",
       "    </tr>\n",
       "  </thead>\n",
       "  <tbody>\n",
       "    <tr>\n",
       "      <th>0</th>\n",
       "      <td>2</td>\n",
       "      <td>2024-01-24 16:24:37</td>\n",
       "      <td>2024-01-24 16:37:01</td>\n",
       "      <td>1.0</td>\n",
       "      <td>1.19</td>\n",
       "      <td>1.0</td>\n",
       "      <td>N</td>\n",
       "      <td>161</td>\n",
       "      <td>164</td>\n",
       "      <td>1</td>\n",
       "      <td>12.1</td>\n",
       "      <td>2.5</td>\n",
       "      <td>0.5</td>\n",
       "      <td>3.72</td>\n",
       "      <td>0.00</td>\n",
       "      <td>1.0</td>\n",
       "      <td>22.32</td>\n",
       "      <td>2.5</td>\n",
       "      <td>0.00</td>\n",
       "      <td>2024</td>\n",
       "      <td>1</td>\n",
       "      <td>4</td>\n",
       "      <td>16</td>\n",
       "    </tr>\n",
       "    <tr>\n",
       "      <th>1</th>\n",
       "      <td>2</td>\n",
       "      <td>2024-01-24 16:35:06</td>\n",
       "      <td>2024-01-24 16:41:39</td>\n",
       "      <td>1.0</td>\n",
       "      <td>1.03</td>\n",
       "      <td>1.0</td>\n",
       "      <td>N</td>\n",
       "      <td>164</td>\n",
       "      <td>107</td>\n",
       "      <td>2</td>\n",
       "      <td>7.9</td>\n",
       "      <td>2.5</td>\n",
       "      <td>0.5</td>\n",
       "      <td>0.00</td>\n",
       "      <td>0.00</td>\n",
       "      <td>1.0</td>\n",
       "      <td>14.40</td>\n",
       "      <td>2.5</td>\n",
       "      <td>0.00</td>\n",
       "      <td>2024</td>\n",
       "      <td>1</td>\n",
       "      <td>4</td>\n",
       "      <td>16</td>\n",
       "    </tr>\n",
       "    <tr>\n",
       "      <th>2</th>\n",
       "      <td>1</td>\n",
       "      <td>2024-01-24 16:13:39</td>\n",
       "      <td>2024-01-24 16:42:18</td>\n",
       "      <td>1.0</td>\n",
       "      <td>2.80</td>\n",
       "      <td>1.0</td>\n",
       "      <td>N</td>\n",
       "      <td>229</td>\n",
       "      <td>238</td>\n",
       "      <td>1</td>\n",
       "      <td>24.7</td>\n",
       "      <td>5.0</td>\n",
       "      <td>0.5</td>\n",
       "      <td>6.20</td>\n",
       "      <td>0.00</td>\n",
       "      <td>1.0</td>\n",
       "      <td>37.40</td>\n",
       "      <td>2.5</td>\n",
       "      <td>0.00</td>\n",
       "      <td>2024</td>\n",
       "      <td>1</td>\n",
       "      <td>4</td>\n",
       "      <td>16</td>\n",
       "    </tr>\n",
       "    <tr>\n",
       "      <th>3</th>\n",
       "      <td>2</td>\n",
       "      <td>2024-01-24 16:00:10</td>\n",
       "      <td>2024-01-24 17:05:48</td>\n",
       "      <td>2.0</td>\n",
       "      <td>20.23</td>\n",
       "      <td>3.0</td>\n",
       "      <td>N</td>\n",
       "      <td>162</td>\n",
       "      <td>1</td>\n",
       "      <td>1</td>\n",
       "      <td>107.7</td>\n",
       "      <td>2.5</td>\n",
       "      <td>0.0</td>\n",
       "      <td>33.40</td>\n",
       "      <td>22.38</td>\n",
       "      <td>1.0</td>\n",
       "      <td>166.98</td>\n",
       "      <td>0.0</td>\n",
       "      <td>0.00</td>\n",
       "      <td>2024</td>\n",
       "      <td>1</td>\n",
       "      <td>4</td>\n",
       "      <td>16</td>\n",
       "    </tr>\n",
       "    <tr>\n",
       "      <th>4</th>\n",
       "      <td>2</td>\n",
       "      <td>2024-01-24 16:53:50</td>\n",
       "      <td>2024-01-24 17:31:00</td>\n",
       "      <td>1.0</td>\n",
       "      <td>10.48</td>\n",
       "      <td>1.0</td>\n",
       "      <td>N</td>\n",
       "      <td>138</td>\n",
       "      <td>237</td>\n",
       "      <td>1</td>\n",
       "      <td>46.4</td>\n",
       "      <td>7.5</td>\n",
       "      <td>0.5</td>\n",
       "      <td>19.98</td>\n",
       "      <td>6.94</td>\n",
       "      <td>1.0</td>\n",
       "      <td>86.57</td>\n",
       "      <td>2.5</td>\n",
       "      <td>1.75</td>\n",
       "      <td>2024</td>\n",
       "      <td>1</td>\n",
       "      <td>4</td>\n",
       "      <td>16</td>\n",
       "    </tr>\n",
       "  </tbody>\n",
       "</table>\n",
       "</div>"
      ],
      "text/plain": [
       "   VendorID tpep_pickup_datetime tpep_dropoff_datetime  passenger_count  \\\n",
       "0  2         2024-01-24 16:24:37  2024-01-24 16:37:01   1.0               \n",
       "1  2         2024-01-24 16:35:06  2024-01-24 16:41:39   1.0               \n",
       "2  1         2024-01-24 16:13:39  2024-01-24 16:42:18   1.0               \n",
       "3  2         2024-01-24 16:00:10  2024-01-24 17:05:48   2.0               \n",
       "4  2         2024-01-24 16:53:50  2024-01-24 17:31:00   1.0               \n",
       "\n",
       "   trip_distance  RatecodeID store_and_fwd_flag  PULocationID  DOLocationID  \\\n",
       "0   1.19          1.0         N                  161           164            \n",
       "1   1.03          1.0         N                  164           107            \n",
       "2   2.80          1.0         N                  229           238            \n",
       "3  20.23          3.0         N                  162             1            \n",
       "4  10.48          1.0         N                  138           237            \n",
       "\n",
       "   payment_type  fare_amount  extra  mta_tax  tip_amount  tolls_amount  \\\n",
       "0  1              12.1        2.5    0.5       3.72        0.00          \n",
       "1  2               7.9        2.5    0.5       0.00        0.00          \n",
       "2  1              24.7        5.0    0.5       6.20        0.00          \n",
       "3  1             107.7        2.5    0.0      33.40       22.38          \n",
       "4  1              46.4        7.5    0.5      19.98        6.94          \n",
       "\n",
       "   improvement_surcharge  total_amount  congestion_surcharge  Airport_fee  \\\n",
       "0  1.0                     22.32        2.5                   0.00          \n",
       "1  1.0                     14.40        2.5                   0.00          \n",
       "2  1.0                     37.40        2.5                   0.00          \n",
       "3  1.0                    166.98        0.0                   0.00          \n",
       "4  1.0                     86.57        2.5                   1.75          \n",
       "\n",
       "   year  month  day_of_week  hour  \n",
       "0  2024  1      4            16    \n",
       "1  2024  1      4            16    \n",
       "2  2024  1      4            16    \n",
       "3  2024  1      4            16    \n",
       "4  2024  1      4            16    "
      ]
     },
     "execution_count": 20,
     "metadata": {},
     "output_type": "execute_result"
    }
   ],
   "source": [
    "# Peak hour trips (hour 7-9 and 16-18)\n",
    "print(\"Peak Hour Trips (7-9 AM and 4-6 PM):\")\n",
    "Utils.display(df.filter( ((col(\"hour\") >= 7) & (col(\"hour\") <= 9)) | ((col(\"hour\") >= 16) & (col(\"hour\") <= 18))).limit(10))\n"
   ]
  },
  {
   "cell_type": "code",
   "execution_count": 21,
   "id": "e6e74b41-6c2d-4a3c-857d-55012701a033",
   "metadata": {},
   "outputs": [
    {
     "name": "stdout",
     "output_type": "stream",
     "text": [
      "Trips with High Total Amounts but Short Distances:\n"
     ]
    },
    {
     "name": "stderr",
     "output_type": "stream",
     "text": [
      "                                                                                \r"
     ]
    },
    {
     "data": {
      "text/html": [
       "<div>\n",
       "<style scoped>\n",
       "    .dataframe tbody tr th:only-of-type {\n",
       "        vertical-align: middle;\n",
       "    }\n",
       "\n",
       "    .dataframe tbody tr th {\n",
       "        vertical-align: top;\n",
       "    }\n",
       "\n",
       "    .dataframe thead th {\n",
       "        text-align: right;\n",
       "    }\n",
       "</style>\n",
       "<table border=\"1\" class=\"dataframe\">\n",
       "  <thead>\n",
       "    <tr style=\"text-align: left;\">\n",
       "      <th></th>\n",
       "      <th>VendorID</th>\n",
       "      <th>tpep_pickup_datetime</th>\n",
       "      <th>tpep_dropoff_datetime</th>\n",
       "      <th>passenger_count</th>\n",
       "      <th>trip_distance</th>\n",
       "      <th>RatecodeID</th>\n",
       "      <th>store_and_fwd_flag</th>\n",
       "      <th>PULocationID</th>\n",
       "      <th>DOLocationID</th>\n",
       "      <th>payment_type</th>\n",
       "      <th>fare_amount</th>\n",
       "      <th>extra</th>\n",
       "      <th>mta_tax</th>\n",
       "      <th>tip_amount</th>\n",
       "      <th>tolls_amount</th>\n",
       "      <th>improvement_surcharge</th>\n",
       "      <th>total_amount</th>\n",
       "      <th>congestion_surcharge</th>\n",
       "      <th>Airport_fee</th>\n",
       "      <th>year</th>\n",
       "      <th>month</th>\n",
       "      <th>day_of_week</th>\n",
       "      <th>hour</th>\n",
       "    </tr>\n",
       "  </thead>\n",
       "  <tbody>\n",
       "    <tr>\n",
       "      <th>0</th>\n",
       "      <td>2</td>\n",
       "      <td>2024-01-17 00:05:41</td>\n",
       "      <td>2024-01-17 00:06:57</td>\n",
       "      <td>1.0</td>\n",
       "      <td>0.41</td>\n",
       "      <td>2.0</td>\n",
       "      <td>N</td>\n",
       "      <td>170</td>\n",
       "      <td>162</td>\n",
       "      <td>1</td>\n",
       "      <td>70.00</td>\n",
       "      <td>0.0</td>\n",
       "      <td>0.5</td>\n",
       "      <td>20.23</td>\n",
       "      <td>6.94</td>\n",
       "      <td>1.0</td>\n",
       "      <td>101.17</td>\n",
       "      <td>2.5</td>\n",
       "      <td>0.00</td>\n",
       "      <td>2024</td>\n",
       "      <td>1</td>\n",
       "      <td>4</td>\n",
       "      <td>0</td>\n",
       "    </tr>\n",
       "    <tr>\n",
       "      <th>1</th>\n",
       "      <td>1</td>\n",
       "      <td>2024-01-17 15:54:03</td>\n",
       "      <td>2024-01-17 15:54:34</td>\n",
       "      <td>1.0</td>\n",
       "      <td>0.30</td>\n",
       "      <td>5.0</td>\n",
       "      <td>N</td>\n",
       "      <td>132</td>\n",
       "      <td>132</td>\n",
       "      <td>1</td>\n",
       "      <td>87.00</td>\n",
       "      <td>0.0</td>\n",
       "      <td>0.0</td>\n",
       "      <td>17.60</td>\n",
       "      <td>0.00</td>\n",
       "      <td>1.0</td>\n",
       "      <td>105.60</td>\n",
       "      <td>0.0</td>\n",
       "      <td>0.00</td>\n",
       "      <td>2024</td>\n",
       "      <td>1</td>\n",
       "      <td>4</td>\n",
       "      <td>15</td>\n",
       "    </tr>\n",
       "    <tr>\n",
       "      <th>2</th>\n",
       "      <td>2</td>\n",
       "      <td>2024-01-17 21:36:44</td>\n",
       "      <td>2024-01-17 21:36:50</td>\n",
       "      <td>1.0</td>\n",
       "      <td>0.02</td>\n",
       "      <td>5.0</td>\n",
       "      <td>N</td>\n",
       "      <td>132</td>\n",
       "      <td>132</td>\n",
       "      <td>1</td>\n",
       "      <td>87.79</td>\n",
       "      <td>0.0</td>\n",
       "      <td>0.0</td>\n",
       "      <td>17.76</td>\n",
       "      <td>0.00</td>\n",
       "      <td>1.0</td>\n",
       "      <td>108.30</td>\n",
       "      <td>0.0</td>\n",
       "      <td>1.75</td>\n",
       "      <td>2024</td>\n",
       "      <td>1</td>\n",
       "      <td>4</td>\n",
       "      <td>21</td>\n",
       "    </tr>\n",
       "    <tr>\n",
       "      <th>3</th>\n",
       "      <td>2</td>\n",
       "      <td>2024-01-22 14:25:42</td>\n",
       "      <td>2024-01-22 14:25:53</td>\n",
       "      <td>1.0</td>\n",
       "      <td>0.09</td>\n",
       "      <td>2.0</td>\n",
       "      <td>N</td>\n",
       "      <td>235</td>\n",
       "      <td>47</td>\n",
       "      <td>1</td>\n",
       "      <td>70.00</td>\n",
       "      <td>0.0</td>\n",
       "      <td>0.5</td>\n",
       "      <td>70.00</td>\n",
       "      <td>0.00</td>\n",
       "      <td>1.0</td>\n",
       "      <td>141.50</td>\n",
       "      <td>0.0</td>\n",
       "      <td>0.00</td>\n",
       "      <td>2024</td>\n",
       "      <td>1</td>\n",
       "      <td>2</td>\n",
       "      <td>14</td>\n",
       "    </tr>\n",
       "    <tr>\n",
       "      <th>4</th>\n",
       "      <td>2</td>\n",
       "      <td>2024-01-20 06:36:28</td>\n",
       "      <td>2024-01-20 06:40:17</td>\n",
       "      <td>1.0</td>\n",
       "      <td>1.34</td>\n",
       "      <td>5.0</td>\n",
       "      <td>N</td>\n",
       "      <td>65</td>\n",
       "      <td>97</td>\n",
       "      <td>1</td>\n",
       "      <td>80.00</td>\n",
       "      <td>0.0</td>\n",
       "      <td>0.0</td>\n",
       "      <td>20.25</td>\n",
       "      <td>0.00</td>\n",
       "      <td>1.0</td>\n",
       "      <td>101.25</td>\n",
       "      <td>0.0</td>\n",
       "      <td>0.00</td>\n",
       "      <td>2024</td>\n",
       "      <td>1</td>\n",
       "      <td>7</td>\n",
       "      <td>6</td>\n",
       "    </tr>\n",
       "  </tbody>\n",
       "</table>\n",
       "</div>"
      ],
      "text/plain": [
       "   VendorID tpep_pickup_datetime tpep_dropoff_datetime  passenger_count  \\\n",
       "0  2         2024-01-17 00:05:41  2024-01-17 00:06:57   1.0               \n",
       "1  1         2024-01-17 15:54:03  2024-01-17 15:54:34   1.0               \n",
       "2  2         2024-01-17 21:36:44  2024-01-17 21:36:50   1.0               \n",
       "3  2         2024-01-22 14:25:42  2024-01-22 14:25:53   1.0               \n",
       "4  2         2024-01-20 06:36:28  2024-01-20 06:40:17   1.0               \n",
       "\n",
       "   trip_distance  RatecodeID store_and_fwd_flag  PULocationID  DOLocationID  \\\n",
       "0  0.41           2.0         N                  170           162            \n",
       "1  0.30           5.0         N                  132           132            \n",
       "2  0.02           5.0         N                  132           132            \n",
       "3  0.09           2.0         N                  235            47            \n",
       "4  1.34           5.0         N                   65            97            \n",
       "\n",
       "   payment_type  fare_amount  extra  mta_tax  tip_amount  tolls_amount  \\\n",
       "0  1             70.00        0.0    0.5      20.23       6.94           \n",
       "1  1             87.00        0.0    0.0      17.60       0.00           \n",
       "2  1             87.79        0.0    0.0      17.76       0.00           \n",
       "3  1             70.00        0.0    0.5      70.00       0.00           \n",
       "4  1             80.00        0.0    0.0      20.25       0.00           \n",
       "\n",
       "   improvement_surcharge  total_amount  congestion_surcharge  Airport_fee  \\\n",
       "0  1.0                    101.17        2.5                   0.00          \n",
       "1  1.0                    105.60        0.0                   0.00          \n",
       "2  1.0                    108.30        0.0                   1.75          \n",
       "3  1.0                    141.50        0.0                   0.00          \n",
       "4  1.0                    101.25        0.0                   0.00          \n",
       "\n",
       "   year  month  day_of_week  hour  \n",
       "0  2024  1      4             0    \n",
       "1  2024  1      4            15    \n",
       "2  2024  1      4            21    \n",
       "3  2024  1      2            14    \n",
       "4  2024  1      7             6    "
      ]
     },
     "execution_count": 21,
     "metadata": {},
     "output_type": "execute_result"
    }
   ],
   "source": [
    "# Trips with high total amounts but short distances\n",
    "print(\"Trips with High Total Amounts but Short Distances:\")\n",
    "Utils.display(df.filter((col(\"total_amount\") > 100) & (col(\"trip_distance\") < 2)).limit(10))"
   ]
  },
  {
   "cell_type": "markdown",
   "id": "5f66ac67-ece1-43cb-bdd1-2d619e41379c",
   "metadata": {},
   "source": [
    "## Spark UDF (User Defined Function)\n",
    "\n",
    "### What is a Spark UDF?\n",
    "\n",
    "A **Spark UDF (User Defined Function)** is a custom function that extends the capabilities of Spark’s built-in functions. UDFs allow you to define your own operations on data within a **Spark DataFrame** or **RDD**. These operations can be applied across rows in a distributed fashion and enable complex, domain-specific logic that is not natively supported by Spark.\n",
    "\n",
    "### Purpose of Spark UDFs\n",
    "\n",
    "- **Customization**: Allows you to write custom logic that is not part of Spark’s standard functions.\n",
    "- **Extendibility**: Enables you to extend Spark with custom operations that meet your business or processing needs.\n",
    "- **Encapsulation**: UDFs encapsulate complex logic, making it reusable and modular.\n",
    "  \n",
    "### When to Use Spark UDFs?\n",
    "\n",
    "You might use Spark UDFs when:\n",
    "\n",
    "- **Built-in functions are insufficient**: If the existing Spark functions don't cover your specific use case, you can write a UDF for more complex transformations (e.g., custom string manipulation, advanced mathematical operations).\n",
    "- **Complex business logic**: If your transformation involves complex logic that requires multiple operations, external libraries, or custom rules.\n",
    "- **Integration with external libraries**: UDFs let you use libraries such as `math`, `datetime`, `pandas`, and other custom Python functions within Spark jobs.\n",
    "\n",
    "### How Spark UDFs Work\n",
    "\n",
    "1. **Row-wise execution**: Spark UDFs are applied row-by-row. When you use a UDF, it will be executed on each row of the DataFrame or RDD.\n",
    "2. **Distributed computation**: The UDF is serialized, distributed, and executed across multiple worker nodes in the Spark cluster. This allows Spark to perform large-scale distributed processing of data with your custom logic.\n",
    "3. **Data transformation**: The UDF can be used to transform data in a DataFrame column by applying a custom function to each value in that column.\n",
    "\n",
    "### Benefits of Spark UDFs\n",
    "\n",
    "- **Flexibility**: You can implement custom business rules, data transformations, or any logic that goes beyond what’s provided by Spark's built-in functions.\n",
    "- **Reusability**: Once a UDF is defined, it can be applied to multiple DataFrames or RDDs, improving code modularity.\n",
    "- **Integration with Python/Scala**: UDFs allow you to integrate with Python/Scala libraries for more advanced computation or non-SQL logic.\n"
   ]
  },
  {
   "cell_type": "code",
   "execution_count": 28,
   "id": "91b2264c-ff33-430e-84bb-c596b3d8c71a",
   "metadata": {},
   "outputs": [
    {
     "name": "stdout",
     "output_type": "stream",
     "text": [
      "Checking for Null or Invalid Values:\n",
      "Invalid Rows:\n",
      "Data with Custom Surcharge:\n"
     ]
    },
    {
     "name": "stderr",
     "output_type": "stream",
     "text": [
      "[Stage 135:=================================================>       (7 + 1) / 8]\r"
     ]
    },
    {
     "name": "stdout",
     "output_type": "stream",
     "text": [
      "Updated Schema:\n",
      "root\n",
      " |-- VendorID: integer (nullable = true)\n",
      " |-- tpep_pickup_datetime: string (nullable = true)\n",
      " |-- tpep_dropoff_datetime: string (nullable = true)\n",
      " |-- passenger_count: double (nullable = true)\n",
      " |-- trip_distance: double (nullable = true)\n",
      " |-- RatecodeID: double (nullable = true)\n",
      " |-- store_and_fwd_flag: string (nullable = false)\n",
      " |-- PULocationID: integer (nullable = true)\n",
      " |-- DOLocationID: integer (nullable = true)\n",
      " |-- payment_type: long (nullable = true)\n",
      " |-- fare_amount: double (nullable = true)\n",
      " |-- extra: double (nullable = true)\n",
      " |-- mta_tax: double (nullable = true)\n",
      " |-- tip_amount: double (nullable = true)\n",
      " |-- tolls_amount: double (nullable = true)\n",
      " |-- improvement_surcharge: double (nullable = true)\n",
      " |-- total_amount: double (nullable = true)\n",
      " |-- congestion_surcharge: double (nullable = true)\n",
      " |-- Airport_fee: double (nullable = true)\n",
      " |-- year: integer (nullable = true)\n",
      " |-- month: integer (nullable = true)\n",
      " |-- day_of_week: integer (nullable = true)\n",
      " |-- hour: integer (nullable = true)\n",
      " |-- custom_surcharge: double (nullable = true)\n",
      "\n"
     ]
    },
    {
     "name": "stderr",
     "output_type": "stream",
     "text": [
      "                                                                                \r"
     ]
    }
   ],
   "source": [
    "from pyspark.sql.functions import udf, col, when, isnull\n",
    "from pyspark.sql.types import DoubleType\n",
    "\n",
    "# Step 1: Check for Null or Invalid Values\n",
    "print(\"Checking for Null or Invalid Values:\")\n",
    "df_invalid = df.filter((col(\"trip_distance\").isNull()) | (col(\"fare_amount\").isNull()))\n",
    "print(\"Invalid Rows:\")\n",
    "Utils.display(df_invalid)\n",
    "\n",
    "# Drop rows with null values in trip_distance or fare_amount\n",
    "df = df.filter((col(\"trip_distance\").isNotNull()) & (col(\"fare_amount\").isNotNull()))\n",
    "\n",
    "# Step 2: Define UDF with Error Handling\n",
    "def calculate_surcharge_safe(trip_distance, fare_amount):\n",
    "    \"\"\"\n",
    "    Calculate surcharge based on trip_distance and fare_amount.\n",
    "    Handles None or invalid values gracefully.\n",
    "    \"\"\"\n",
    "    if trip_distance is None or fare_amount is None:\n",
    "        return 0.0  # Default surcharge for invalid rows\n",
    "    if trip_distance > 10:\n",
    "        return fare_amount * 0.1\n",
    "    else:\n",
    "        return fare_amount * 0.05\n",
    "\n",
    "# Register the UDF with Spark\n",
    "surcharge_udf = udf(calculate_surcharge_safe, DoubleType())\n",
    "\n",
    "# Step 3: Apply the UDF to Create a New Column\n",
    "df_with_surcharge = df.withColumn(\n",
    "    \"custom_surcharge\", surcharge_udf(col(\"trip_distance\"), col(\"fare_amount\"))\n",
    ")\n",
    "\n",
    "# Step 4: Display Results\n",
    "print(\"Data with Custom Surcharge:\")\n",
    "Utils.display(df_with_surcharge.select(\"trip_distance\", \"fare_amount\", \"custom_surcharge\").limit(10))\n",
    "\n",
    "# Step 5: Check Schema to Confirm New Column\n",
    "print(\"Updated Schema:\")\n",
    "df_with_surcharge.printSchema()\n"
   ]
  },
  {
   "cell_type": "markdown",
   "id": "d89a62f1-3ccf-4655-bded-5bac0c46c1d1",
   "metadata": {},
   "source": [
    "## **Spark SQL Queries**\n",
    "\n",
    "#### **Registering Table**"
   ]
  },
  {
   "cell_type": "code",
   "execution_count": 29,
   "id": "a9823950-b448-4a6a-977d-136e5e4f60a6",
   "metadata": {},
   "outputs": [],
   "source": [
    "# Register DataFrame as a temporary table\n",
    "df.createOrReplaceTempView(\"taxi_data\")"
   ]
  },
  {
   "cell_type": "markdown",
   "id": "e437ed54-3cdd-41ae-a272-e0ff8ef7ed51",
   "metadata": {},
   "source": [
    "#### **SQL Queries**"
   ]
  },
  {
   "cell_type": "code",
   "execution_count": 30,
   "id": "e3e36381-b9e6-4bc9-8237-6da93854e281",
   "metadata": {},
   "outputs": [
    {
     "name": "stdout",
     "output_type": "stream",
     "text": [
      "Most Frequent Rate Codes:\n"
     ]
    },
    {
     "name": "stderr",
     "output_type": "stream",
     "text": [
      "[Stage 138:=================================================>       (7 + 1) / 8]\r"
     ]
    },
    {
     "name": "stdout",
     "output_type": "stream",
     "text": [
      "+----------+---------+\n",
      "|RatecodeID|frequency|\n",
      "+----------+---------+\n",
      "|       1.0|  2581355|\n",
      "|       2.0|    93444|\n",
      "|      99.0|    27127|\n",
      "|       5.0|     8828|\n",
      "|       3.0|     7136|\n",
      "|       4.0|     6071|\n",
      "|       6.0|        1|\n",
      "+----------+---------+\n",
      "\n"
     ]
    },
    {
     "name": "stderr",
     "output_type": "stream",
     "text": [
      "                                                                                \r"
     ]
    }
   ],
   "source": [
    "# Most frequent rate codes\n",
    "print(\"Most Frequent Rate Codes:\")\n",
    "spark.sql(\"\"\"\n",
    "    SELECT RatecodeID, COUNT(*) AS frequency\n",
    "    FROM taxi_data\n",
    "    GROUP BY RatecodeID\n",
    "    ORDER BY frequency DESC\n",
    "\"\"\").show()"
   ]
  },
  {
   "cell_type": "code",
   "execution_count": 31,
   "id": "e6aafc25-e7da-452a-ab62-51eac01576cd",
   "metadata": {},
   "outputs": [
    {
     "name": "stdout",
     "output_type": "stream",
     "text": [
      "Monthly Revenue Trends for Each VendorID:\n"
     ]
    },
    {
     "name": "stderr",
     "output_type": "stream",
     "text": [
      "                                                                                \r"
     ]
    },
    {
     "name": "stdout",
     "output_type": "stream",
     "text": [
      "+----+-----+--------+--------------------+\n",
      "|year|month|VendorID|       total_revenue|\n",
      "+----+-----+--------+--------------------+\n",
      "|2002|   12|       2|                10.5|\n",
      "|2009|    1|       2|  127.69000000000001|\n",
      "|2023|   12|       2|              224.62|\n",
      "|2024|    1|       1|1.6567504839999896E7|\n",
      "|2024|    1|       2| 5.809488918000037E7|\n",
      "|2024|    2|       2|               90.47|\n",
      "+----+-----+--------+--------------------+\n",
      "\n",
      "Top 10 Trips with Highest Tips:\n"
     ]
    },
    {
     "name": "stderr",
     "output_type": "stream",
     "text": [
      "[Stage 150:==========================================>              (6 + 2) / 8]\r"
     ]
    },
    {
     "name": "stdout",
     "output_type": "stream",
     "text": [
      "+--------+------------+------------+----------+\n",
      "|VendorID|PULocationID|DOLocationID|tip_amount|\n",
      "+--------+------------+------------+----------+\n",
      "|       2|         138|         226|     422.7|\n",
      "|       2|         263|         107|     303.0|\n",
      "|       1|         148|         265|     300.0|\n",
      "|       2|         234|         132|     250.0|\n",
      "|       2|          43|         236|    220.88|\n",
      "|       2|          43|         107|     202.0|\n",
      "|       2|          43|         237|     202.0|\n",
      "|       1|         140|         263|    175.17|\n",
      "|       1|          68|         265|     144.0|\n",
      "|       2|         161|         265|     132.0|\n",
      "+--------+------------+------------+----------+\n",
      "\n"
     ]
    },
    {
     "name": "stderr",
     "output_type": "stream",
     "text": [
      "                                                                                \r"
     ]
    }
   ],
   "source": [
    "# Monthly revenue trends for each VendorID\n",
    "print(\"Monthly Revenue Trends for Each VendorID:\")\n",
    "spark.sql(\"\"\"\n",
    "    SELECT year, month, VendorID, SUM(total_amount) AS total_revenue\n",
    "    FROM taxi_data\n",
    "    GROUP BY year, month, VendorID\n",
    "    ORDER BY year, month, VendorID\n",
    "\"\"\").show()\n",
    "\n",
    "# Top 10 trips with highest tips\n",
    "print(\"Top 10 Trips with Highest Tips:\")\n",
    "spark.sql(\"\"\"\n",
    "    SELECT VendorID, PULocationID, DOLocationID, tip_amount\n",
    "    FROM taxi_data\n",
    "    ORDER BY tip_amount DESC\n",
    "    LIMIT 10\n",
    "\"\"\").show()"
   ]
  },
  {
   "cell_type": "markdown",
   "id": "a3918019-a689-48a5-8dd5-29a347a2d0ba",
   "metadata": {},
   "source": [
    "### **Window Functions and Ranking**"
   ]
  },
  {
   "cell_type": "code",
   "execution_count": 32,
   "id": "02a90a53-542b-4506-8e68-de2638074bc1",
   "metadata": {},
   "outputs": [
    {
     "name": "stdout",
     "output_type": "stream",
     "text": [
      "Top Trips by VendorID (Row Number):\n"
     ]
    },
    {
     "name": "stderr",
     "output_type": "stream",
     "text": [
      "                                                                                \r"
     ]
    },
    {
     "name": "stdout",
     "output_type": "stream",
     "text": [
      "Ranked Trips by Total Amount:\n"
     ]
    },
    {
     "name": "stderr",
     "output_type": "stream",
     "text": [
      "                                                                                \r"
     ]
    },
    {
     "data": {
      "text/html": [
       "<div>\n",
       "<style scoped>\n",
       "    .dataframe tbody tr th:only-of-type {\n",
       "        vertical-align: middle;\n",
       "    }\n",
       "\n",
       "    .dataframe tbody tr th {\n",
       "        vertical-align: top;\n",
       "    }\n",
       "\n",
       "    .dataframe thead th {\n",
       "        text-align: right;\n",
       "    }\n",
       "</style>\n",
       "<table border=\"1\" class=\"dataframe\">\n",
       "  <thead>\n",
       "    <tr style=\"text-align: left;\">\n",
       "      <th></th>\n",
       "      <th>VendorID</th>\n",
       "      <th>tpep_pickup_datetime</th>\n",
       "      <th>tpep_dropoff_datetime</th>\n",
       "      <th>passenger_count</th>\n",
       "      <th>trip_distance</th>\n",
       "      <th>RatecodeID</th>\n",
       "      <th>store_and_fwd_flag</th>\n",
       "      <th>PULocationID</th>\n",
       "      <th>DOLocationID</th>\n",
       "      <th>payment_type</th>\n",
       "      <th>fare_amount</th>\n",
       "      <th>extra</th>\n",
       "      <th>mta_tax</th>\n",
       "      <th>tip_amount</th>\n",
       "      <th>tolls_amount</th>\n",
       "      <th>improvement_surcharge</th>\n",
       "      <th>total_amount</th>\n",
       "      <th>congestion_surcharge</th>\n",
       "      <th>Airport_fee</th>\n",
       "      <th>year</th>\n",
       "      <th>month</th>\n",
       "      <th>day_of_week</th>\n",
       "      <th>hour</th>\n",
       "      <th>rank</th>\n",
       "    </tr>\n",
       "  </thead>\n",
       "  <tbody>\n",
       "    <tr>\n",
       "      <th>0</th>\n",
       "      <td>1</td>\n",
       "      <td>2024-01-16 19:00:33</td>\n",
       "      <td>2024-01-16 23:07:48</td>\n",
       "      <td>1.0</td>\n",
       "      <td>210.2</td>\n",
       "      <td>5.0</td>\n",
       "      <td>N</td>\n",
       "      <td>132</td>\n",
       "      <td>265</td>\n",
       "      <td>1</td>\n",
       "      <td>650.0</td>\n",
       "      <td>0.00</td>\n",
       "      <td>0.0</td>\n",
       "      <td>0.0</td>\n",
       "      <td>38.68</td>\n",
       "      <td>1.0</td>\n",
       "      <td>689.68</td>\n",
       "      <td>0.0</td>\n",
       "      <td>0.00</td>\n",
       "      <td>2024</td>\n",
       "      <td>1</td>\n",
       "      <td>3</td>\n",
       "      <td>19</td>\n",
       "      <td>1</td>\n",
       "    </tr>\n",
       "    <tr>\n",
       "      <th>1</th>\n",
       "      <td>1</td>\n",
       "      <td>2024-01-11 23:23:01</td>\n",
       "      <td>2024-01-12 00:31:23</td>\n",
       "      <td>1.0</td>\n",
       "      <td>47.1</td>\n",
       "      <td>4.0</td>\n",
       "      <td>N</td>\n",
       "      <td>148</td>\n",
       "      <td>265</td>\n",
       "      <td>1</td>\n",
       "      <td>281.6</td>\n",
       "      <td>3.50</td>\n",
       "      <td>0.5</td>\n",
       "      <td>300.0</td>\n",
       "      <td>0.00</td>\n",
       "      <td>1.0</td>\n",
       "      <td>586.60</td>\n",
       "      <td>2.5</td>\n",
       "      <td>0.00</td>\n",
       "      <td>2024</td>\n",
       "      <td>1</td>\n",
       "      <td>5</td>\n",
       "      <td>23</td>\n",
       "      <td>2</td>\n",
       "    </tr>\n",
       "    <tr>\n",
       "      <th>2</th>\n",
       "      <td>1</td>\n",
       "      <td>2024-01-26 12:49:27</td>\n",
       "      <td>2024-01-26 16:01:22</td>\n",
       "      <td>1.0</td>\n",
       "      <td>153.2</td>\n",
       "      <td>1.0</td>\n",
       "      <td>N</td>\n",
       "      <td>132</td>\n",
       "      <td>265</td>\n",
       "      <td>2</td>\n",
       "      <td>550.4</td>\n",
       "      <td>1.75</td>\n",
       "      <td>0.5</td>\n",
       "      <td>0.0</td>\n",
       "      <td>20.32</td>\n",
       "      <td>1.0</td>\n",
       "      <td>573.97</td>\n",
       "      <td>0.0</td>\n",
       "      <td>1.75</td>\n",
       "      <td>2024</td>\n",
       "      <td>1</td>\n",
       "      <td>6</td>\n",
       "      <td>12</td>\n",
       "      <td>3</td>\n",
       "    </tr>\n",
       "    <tr>\n",
       "      <th>3</th>\n",
       "      <td>1</td>\n",
       "      <td>2024-01-09 14:14:49</td>\n",
       "      <td>2024-01-09 16:48:49</td>\n",
       "      <td>1.0</td>\n",
       "      <td>101.1</td>\n",
       "      <td>5.0</td>\n",
       "      <td>N</td>\n",
       "      <td>132</td>\n",
       "      <td>265</td>\n",
       "      <td>1</td>\n",
       "      <td>450.0</td>\n",
       "      <td>1.75</td>\n",
       "      <td>0.0</td>\n",
       "      <td>91.9</td>\n",
       "      <td>6.94</td>\n",
       "      <td>1.0</td>\n",
       "      <td>551.59</td>\n",
       "      <td>0.0</td>\n",
       "      <td>1.75</td>\n",
       "      <td>2024</td>\n",
       "      <td>1</td>\n",
       "      <td>3</td>\n",
       "      <td>14</td>\n",
       "      <td>4</td>\n",
       "    </tr>\n",
       "    <tr>\n",
       "      <th>4</th>\n",
       "      <td>1</td>\n",
       "      <td>2024-01-17 00:27:53</td>\n",
       "      <td>2024-01-17 00:28:14</td>\n",
       "      <td>1.0</td>\n",
       "      <td>14.0</td>\n",
       "      <td>5.0</td>\n",
       "      <td>N</td>\n",
       "      <td>265</td>\n",
       "      <td>265</td>\n",
       "      <td>1</td>\n",
       "      <td>515.0</td>\n",
       "      <td>0.00</td>\n",
       "      <td>0.0</td>\n",
       "      <td>0.0</td>\n",
       "      <td>0.00</td>\n",
       "      <td>1.0</td>\n",
       "      <td>516.00</td>\n",
       "      <td>0.0</td>\n",
       "      <td>0.00</td>\n",
       "      <td>2024</td>\n",
       "      <td>1</td>\n",
       "      <td>4</td>\n",
       "      <td>0</td>\n",
       "      <td>5</td>\n",
       "    </tr>\n",
       "  </tbody>\n",
       "</table>\n",
       "</div>"
      ],
      "text/plain": [
       "   VendorID tpep_pickup_datetime tpep_dropoff_datetime  passenger_count  \\\n",
       "0  1         2024-01-16 19:00:33  2024-01-16 23:07:48   1.0               \n",
       "1  1         2024-01-11 23:23:01  2024-01-12 00:31:23   1.0               \n",
       "2  1         2024-01-26 12:49:27  2024-01-26 16:01:22   1.0               \n",
       "3  1         2024-01-09 14:14:49  2024-01-09 16:48:49   1.0               \n",
       "4  1         2024-01-17 00:27:53  2024-01-17 00:28:14   1.0               \n",
       "\n",
       "   trip_distance  RatecodeID store_and_fwd_flag  PULocationID  DOLocationID  \\\n",
       "0  210.2          5.0         N                  132           265            \n",
       "1   47.1          4.0         N                  148           265            \n",
       "2  153.2          1.0         N                  132           265            \n",
       "3  101.1          5.0         N                  132           265            \n",
       "4   14.0          5.0         N                  265           265            \n",
       "\n",
       "   payment_type  fare_amount  extra  mta_tax  tip_amount  tolls_amount  \\\n",
       "0  1             650.0        0.00   0.0        0.0       38.68          \n",
       "1  1             281.6        3.50   0.5      300.0        0.00          \n",
       "2  2             550.4        1.75   0.5        0.0       20.32          \n",
       "3  1             450.0        1.75   0.0       91.9        6.94          \n",
       "4  1             515.0        0.00   0.0        0.0        0.00          \n",
       "\n",
       "   improvement_surcharge  total_amount  congestion_surcharge  Airport_fee  \\\n",
       "0  1.0                    689.68        0.0                   0.00          \n",
       "1  1.0                    586.60        2.5                   0.00          \n",
       "2  1.0                    573.97        0.0                   1.75          \n",
       "3  1.0                    551.59        0.0                   1.75          \n",
       "4  1.0                    516.00        0.0                   0.00          \n",
       "\n",
       "   year  month  day_of_week  hour  rank  \n",
       "0  2024  1      3            19    1     \n",
       "1  2024  1      5            23    2     \n",
       "2  2024  1      6            12    3     \n",
       "3  2024  1      3            14    4     \n",
       "4  2024  1      4             0    5     "
      ]
     },
     "execution_count": 32,
     "metadata": {},
     "output_type": "execute_result"
    }
   ],
   "source": [
    "from pyspark.sql.window import Window\n",
    "from pyspark.sql.functions import row_number, rank\n",
    "\n",
    "# Window for partitioning by VendorID\n",
    "windowSpec = Window.partitionBy(\"VendorID\").orderBy(desc(\"total_amount\"))\n",
    "\n",
    "# Add row number for each VendorID's trips\n",
    "print(\"Top Trips by VendorID (Row Number):\")\n",
    "Utils.display(df.withColumn(\"rank\", row_number().over(windowSpec)).filter(col(\"rank\") <= 5).limit(5))\n",
    "\n",
    "# Rank trips by total amount\n",
    "print(\"Ranked Trips by Total Amount:\")\n",
    "Utils.display(df.withColumn(\"rank\", rank().over(windowSpec)).limit(5))"
   ]
  },
  {
   "cell_type": "markdown",
   "id": "77e65cb1-cd61-4ed2-8a28-93d0982ad647",
   "metadata": {},
   "source": [
    "### **Additional Challenges**\n",
    "\n",
    "1. **Challenge 1**: Find the most expensive trips and analyze their trip distances.\n",
    "2. **Challenge 2**: Compare average tips between weekends and weekdays.\n",
    "3. **Challenge 3**: Identify the most profitable hour for each VendorID."
   ]
  },
  {
   "cell_type": "markdown",
   "id": "f457d757-94a3-42f4-9323-f5f3acc32dac",
   "metadata": {},
   "source": [
    "# Machine Learning Model"
   ]
  },
  {
   "cell_type": "markdown",
   "id": "dcdfdd97-147f-462a-980d-e2798cf9f632",
   "metadata": {},
   "source": [
    "\n",
    "### **Linear Regression Model**\n",
    "\n",
    "#### **What is Linear Regression?**\n",
    "\n",
    "Linear regression is a supervised learning algorithm used for predicting a continuous target variable based on one or more input features. The model assumes a **linear relationship** between the independent variables (predictors) and the dependent variable (target).\n",
    "\n",
    "#### **Types of Linear Regression**\n",
    "\n",
    "1. **Simple Linear Regression**:  \n",
    "   Predicts a target variable based on a single feature. The relationship is modeled as:\n",
    "   \\[\n",
    "   y = \\beta_0 + \\beta_1 x + \\epsilon\n",
    "   \\]\n",
    "   Where:\n",
    "   - \\(y\\) is the target variable.\n",
    "   - \\(x\\) is the feature (independent variable).\n",
    "   - \\(\\beta_0\\) is the intercept.\n",
    "   - \\(\\beta_1\\) is the coefficient (slope).\n",
    "   - \\(\\epsilon\\) is the error term.\n",
    "\n",
    "2. **Multiple Linear Regression**:  \n",
    "   Extends simple linear regression to multiple features:\n",
    "   \\[\n",
    "   y = \\beta_0 + \\beta_1 x_1 + \\beta_2 x_2 + \\dots + \\beta_n x_n + \\epsilon\n",
    "   \\]\n",
    "   Where:\n",
    "   - \\(x_1, x_2, \\dots, x_n\\) are the multiple input features.\n",
    "\n",
    "#### **Purpose of Linear Regression**\n",
    "\n",
    "Linear regression aims to find the best-fitting line (or hyperplane in multiple regression) that minimizes the difference between predicted and actual values. This line is determined by finding the optimal values for the model parameters (intercept and coefficients), typically using **Ordinary Least Squares (OLS)**.\n",
    "\n",
    "#### **Key Components**\n",
    "\n",
    "1. **Intercept (\\(\\beta_0\\))**:  \n",
    "   The value of the target variable when all input features are zero.\n",
    "\n",
    "2. **Coefficients (\\(\\beta_1, \\beta_2, \\dots\\))**:  \n",
    "   These represent the effect or influence of each feature on the target variable.\n",
    "\n",
    "3. **Error Term (\\(\\epsilon\\))**:  \n",
    "   The difference between the predicted value and the actual value.\n",
    "\n",
    "#### **Assumptions of Linear Regression**\n",
    "\n",
    "For the linear regression model to be valid, the following assumptions should ideally hold:\n",
    "1. **Linearity**: The relationship between the predictors and the target is linear.\n",
    "2. **Independence**: The residuals (errors) are independent.\n",
    "3. **Homoscedasticity**: The residuals have constant variance across all levels of the independent variables.\n",
    "4. **Normality**: The residuals are normally distributed (for statistical inference).\n",
    "5. **No multicollinearity**: The predictors should not be highly correlated with each other.\n",
    "\n",
    "#### **Benefits of Linear Regression**\n",
    "\n",
    "1. **Simplicity and Interpretability**:  \n",
    "   Linear regression models are easy to understand and interpret. The coefficients tell you how each predictor influences the target.\n",
    "\n",
    "2. **Efficiency**:  \n",
    "   It is computationally efficient, making it suitable for large datasets and real-time predictions.\n",
    "\n",
    "3. **Versatility**:  \n",
    "   It is widely used in various fields such as economics, healthcare, finance, and marketing.\n",
    "\n",
    "#### **Limitations of Linear Regression**\n",
    "\n",
    "1. **Linearity Assumption**:  \n",
    "   Linear regression assumes that the relationship between the input features and the target is linear. This may not be true in some cases, limiting its applicability.\n",
    "\n",
    "2. **Sensitivity to Outliers**:  \n",
    "   Linear regression is sensitive to outliers, which can disproportionately affect the model parameters.\n",
    "\n",
    "3. **Multicollinearity**:  \n",
    "   When predictor variables are highly correlated, it can cause issues in estimating model coefficients.\n",
    "\n",
    "4. **Overfitting**:  \n",
    "   Including too many irrelevant features can lead to overfitting, especially in multiple regression.\n",
    "\n",
    "#### **Model Evaluation Metrics**\n",
    "\n",
    "1. **R-squared (\\(R^2\\))**:  \n",
    "   A measure of how well the model explains the variance in the target variable. Higher \\(R^2\\) values indicate better model fit.\n",
    "\n",
    "2. **Mean Squared Error (MSE)**:  \n",
    "   Measures the average squared difference between predicted and actual values. Lower MSE means better model performance.\n",
    "\n",
    "3. **Root Mean Squared Error (RMSE)**:  \n",
    "   The square root of the MSE, giving the error in the same units as the target variable. Lower RMSE indicates better model performance.\n",
    "\n",
    "4. **Mean Absolute Error (MAE)**:  \n",
    "   Measures the average absolute difference between predicted and actual values. It is less sensitive to outliers than MSE.\n",
    "\n",
    "5. **Adjusted R-squared**:  \n",
    "   A version of \\(R^2\\) that adjusts for the number of predictors in the model. It helps prevent overfitting when adding more features.\n",
    "\n",
    "\n",
    "#### **Applications of Linear Regression**\n",
    "\n",
    "- **Predictive Modeling**: Used for predicting values such as sales, prices, or customer demand.\n",
    "- **Trend Analysis**: Helps to identify trends and patterns in time-series data.\n",
    "- **Risk Analysis**: Widely used in finance for modeling and forecasting risks.\n",
    "- **Economic Forecasting**: Used to predict economic indicators like GDP, inflation, etc.\n",
    "- **Fare prediction**: Predict fare from a pick-up to drop-off location\n"
   ]
  },
  {
   "cell_type": "code",
   "execution_count": 33,
   "id": "e2775266-2a27-4295-bb7a-a1c48f2c59e4",
   "metadata": {},
   "outputs": [
    {
     "name": "stdout",
     "output_type": "stream",
     "text": [
      "Selecting Relevant Features:\n"
     ]
    },
    {
     "name": "stderr",
     "output_type": "stream",
     "text": [
      "                                                                                \r"
     ]
    },
    {
     "name": "stdout",
     "output_type": "stream",
     "text": [
      "+-------------+---------------+------------+------------+-----------+\n",
      "|trip_distance|passenger_count|PULocationID|DOLocationID|fare_amount|\n",
      "+-------------+---------------+------------+------------+-----------+\n",
      "|         23.9|            1.0|         263|         265|      120.0|\n",
      "|          1.2|            1.0|          43|         236|        7.9|\n",
      "|         2.45|            1.0|         262|          74|       13.5|\n",
      "|         2.55|            2.0|         142|         166|       12.8|\n",
      "|          1.3|            1.0|         161|         229|       13.5|\n",
      "+-------------+---------------+------------+------------+-----------+\n",
      "only showing top 5 rows\n",
      "\n",
      "Assembling Features:\n",
      "Normalizing Features:\n"
     ]
    },
    {
     "name": "stderr",
     "output_type": "stream",
     "text": [
      "                                                                                \r"
     ]
    },
    {
     "name": "stdout",
     "output_type": "stream",
     "text": [
      "Splitting Data into Training and Test Sets:\n",
      "Training the Linear Regression Model:\n"
     ]
    },
    {
     "name": "stderr",
     "output_type": "stream",
     "text": [
      "                                                                                \r"
     ]
    },
    {
     "name": "stdout",
     "output_type": "stream",
     "text": [
      "Evaluating the Model:\n"
     ]
    },
    {
     "name": "stderr",
     "output_type": "stream",
     "text": [
      "                                                                                \r"
     ]
    },
    {
     "name": "stdout",
     "output_type": "stream",
     "text": [
      "Root Mean Squared Error (RMSE): 17.018099741278217\n",
      "R-squared (R2): 0.2619766373009116\n",
      "Sample Predictions:\n"
     ]
    },
    {
     "name": "stderr",
     "output_type": "stream",
     "text": [
      "[Stage 194:>                                                        (0 + 1) / 1]\r"
     ]
    },
    {
     "name": "stdout",
     "output_type": "stream",
     "text": [
      "+--------------------+-----------+------------------+\n",
      "|            features|fare_amount|    predicted_fare|\n",
      "+--------------------+-----------+------------------+\n",
      "|[0.01,1.0,42.0,42.0]|        7.2|22.514348224519615|\n",
      "|[0.01,1.0,68.0,68.0]|        3.0|21.238784601070062|\n",
      "|[0.01,1.0,70.0,70.0]|        3.0|21.140664322343174|\n",
      "|[0.01,1.0,100.0,1...|        3.0|19.668860141439843|\n",
      "|[0.01,1.0,114.0,1...|        5.1|18.982018190351624|\n",
      "+--------------------+-----------+------------------+\n",
      "only showing top 5 rows\n",
      "\n"
     ]
    },
    {
     "name": "stderr",
     "output_type": "stream",
     "text": [
      "                                                                                \r"
     ]
    }
   ],
   "source": [
    "# Predict Fare\n",
    "\n",
    "from pyspark.ml.feature import VectorAssembler, StandardScaler\n",
    "from pyspark.ml.regression import LinearRegression\n",
    "from pyspark.ml.evaluation import RegressionEvaluator\n",
    "from pyspark.sql.functions import col\n",
    "\n",
    "# Step 1: Select Relevant Features\n",
    "print(\"Selecting Relevant Features:\")\n",
    "selected_columns = [\"trip_distance\", \"passenger_count\", \"PULocationID\", \"DOLocationID\", \"fare_amount\"]\n",
    "df_ml = df.select(*selected_columns).filter(col(\"fare_amount\") > 0)\n",
    "df_ml.show(5)\n",
    "\n",
    "# Step 2: Assemble Features into a Single Vector\n",
    "print(\"Assembling Features:\")\n",
    "feature_columns = [\"trip_distance\", \"passenger_count\", \"PULocationID\", \"DOLocationID\"]\n",
    "assembler = VectorAssembler(inputCols=feature_columns, outputCol=\"features\")\n",
    "df_ml = assembler.transform(df_ml)\n",
    "\n",
    "# Step 3: Normalize Features\n",
    "print(\"Normalizing Features:\")\n",
    "scaler = StandardScaler(inputCol=\"features\", outputCol=\"scaledFeatures\", withStd=True, withMean=False)\n",
    "scaler_model = scaler.fit(df_ml)\n",
    "df_ml = scaler_model.transform(df_ml)\n",
    "\n",
    "# Step 4: Split Data into Training and Test Sets\n",
    "print(\"Splitting Data into Training and Test Sets:\")\n",
    "train_data, test_data = df_ml.randomSplit([0.8, 0.2], seed=42)\n",
    "\n",
    "# Step 5: Train a Linear Regression Model\n",
    "print(\"Training the Linear Regression Model:\")\n",
    "lr = LinearRegression(featuresCol=\"scaledFeatures\", labelCol=\"fare_amount\", predictionCol=\"predicted_fare\")\n",
    "lr_model = lr.fit(train_data)\n",
    "\n",
    "# Step 6: Evaluate Model on Test Data\n",
    "print(\"Evaluating the Model:\")\n",
    "predictions = lr_model.transform(test_data)\n",
    "\n",
    "# Calculate RMSE and R2\n",
    "evaluator_rmse = RegressionEvaluator(labelCol=\"fare_amount\", predictionCol=\"predicted_fare\", metricName=\"rmse\")\n",
    "rmse = evaluator_rmse.evaluate(predictions)\n",
    "\n",
    "evaluator_r2 = RegressionEvaluator(labelCol=\"fare_amount\", predictionCol=\"predicted_fare\", metricName=\"r2\")\n",
    "r2 = evaluator_r2.evaluate(predictions)\n",
    "\n",
    "print(f\"Root Mean Squared Error (RMSE): {rmse}\")\n",
    "print(f\"R-squared (R2): {r2}\")\n",
    "\n",
    "# Display Sample Predictions\n",
    "print(\"Sample Predictions:\")\n",
    "predictions.select(\"features\", \"fare_amount\", \"predicted_fare\").show(5)\n"
   ]
  },
  {
   "cell_type": "markdown",
   "id": "eb603514-b2de-4d76-98c1-1f89953368a8",
   "metadata": {},
   "source": [
    "### **Decision Tree Regressor**\n",
    "\n",
    "#### **What is it?**\n",
    "A **Decision Tree Regressor** is a machine learning algorithm used for predicting continuous values. It builds a tree-like model where each internal node represents a decision based on a feature, and each leaf node represents the predicted value (typically the average of the target values in that subset).\n",
    "\n",
    "#### **How it Works**\n",
    "1. **Split the Data**: The tree recursively splits the data at each node based on the feature that minimizes the variance in the target variable.\n",
    "2. **Prediction**: For a given input, the tree makes predictions by following the path from the root to a leaf node, where the prediction is the average of the target values in that leaf.\n",
    "\n",
    "#### **Key Hyperparameters**\n",
    "- **`max_depth`**: Controls the depth of the tree to avoid overfitting.\n",
    "- **`min_samples_split`**: The minimum number of samples required to split an internal node.\n",
    "- **`min_samples_leaf`**: The minimum number of samples required at a leaf node.\n",
    "- **`criterion`**: The function used to measure the quality of a split, usually **MSE (Mean Squared Error)** in regression.\n",
    "  \n",
    "#### **Advantages**\n",
    "- **Simple to Understand**: Easy to interpret with clear decision rules.\n",
    "- **Handles Non-linearity**: Can model complex, non-linear relationships.\n",
    "- **No Feature Scaling Needed**: Works without the need for normalization or scaling.\n",
    "\n",
    "#### **Disadvantages**\n",
    "- **Overfitting**: Prone to overfitting, especially with deep trees.\n",
    "- **Instability**: Small changes in the data can result in large changes in the tree structure.\n",
    "- **Bias Towards Features with Many Categories**: Can overemphasize features with more categories, even if they are not the most relevant.\n",
    "\n",
    "#### **Applications**\n",
    "- **Prediction**: Used for predicting continuous values like prices, sales, or demand.\n",
    "- **Data Exploration**: Can be useful for understanding relationships between variables.\n"
   ]
  },
  {
   "cell_type": "code",
   "execution_count": 34,
   "id": "da5aadd5-b750-49da-8476-312838bcd77c",
   "metadata": {},
   "outputs": [
    {
     "name": "stdout",
     "output_type": "stream",
     "text": [
      "Selecting Additional Features:\n",
      "Assembling Features:\n",
      "Splitting Data into Training and Test Sets:\n",
      "Training the Decision Tree Regressor:\n"
     ]
    },
    {
     "name": "stderr",
     "output_type": "stream",
     "text": [
      "                                                                                \r"
     ]
    },
    {
     "name": "stdout",
     "output_type": "stream",
     "text": [
      "Evaluating the Model:\n"
     ]
    },
    {
     "name": "stderr",
     "output_type": "stream",
     "text": [
      "                                                                                \r"
     ]
    },
    {
     "name": "stdout",
     "output_type": "stream",
     "text": [
      "Root Mean Squared Error (RMSE): 5.77308002941174\n",
      "R-squared (R2): 0.8910783407913814\n",
      "Sample Predictions:\n"
     ]
    },
    {
     "name": "stderr",
     "output_type": "stream",
     "text": [
      "[Stage 241:==================================================>    (11 + 1) / 12]\r"
     ]
    },
    {
     "name": "stdout",
     "output_type": "stream",
     "text": [
      "+--------------------+-----------+-----------------+\n",
      "|            features|fare_amount|       prediction|\n",
      "+--------------------+-----------+-----------------+\n",
      "|[0.01,1.0,42.0,42...|        7.2|5.964739471805853|\n",
      "|[0.01,1.0,68.0,68...|        3.0|3.174999999999997|\n",
      "|[0.01,1.0,70.0,70...|        3.0|5.964739471805853|\n",
      "|[0.01,1.0,100.0,1...|      84.19| 8.24841018884492|\n",
      "|[0.01,1.0,114.0,1...|        5.1|5.714779970503543|\n",
      "+--------------------+-----------+-----------------+\n",
      "only showing top 5 rows\n",
      "\n"
     ]
    },
    {
     "name": "stderr",
     "output_type": "stream",
     "text": [
      "                                                                                \r"
     ]
    }
   ],
   "source": [
    "from pyspark.ml.regression import DecisionTreeRegressor\n",
    "from pyspark.ml.evaluation import RegressionEvaluator\n",
    "\n",
    "# Step 1: Select Additional Features\n",
    "print(\"Selecting Additional Features:\")\n",
    "feature_columns = [\n",
    "    \"trip_distance\", \"passenger_count\", \"PULocationID\", \"DOLocationID\",\n",
    "    \"extra\", \"tolls_amount\", \"congestion_surcharge\", \"mta_tax\"\n",
    "]\n",
    "df_ml = df.select(*feature_columns, \"fare_amount\").filter(col(\"fare_amount\") > 0)\n",
    "\n",
    "# Step 2: Assemble Features\n",
    "print(\"Assembling Features:\")\n",
    "assembler = VectorAssembler(inputCols=feature_columns, outputCol=\"features\")\n",
    "df_ml = assembler.transform(df_ml)\n",
    "\n",
    "# Step 3: Split Data into Training and Test Sets\n",
    "print(\"Splitting Data into Training and Test Sets:\")\n",
    "train_data, test_data = df_ml.randomSplit([0.8, 0.2], seed=42)\n",
    "\n",
    "# Step 4: Train a Decision Tree Regressor\n",
    "print(\"Training the Decision Tree Regressor:\")\n",
    "dt = DecisionTreeRegressor(featuresCol=\"features\", labelCol=\"fare_amount\", maxDepth=10)\n",
    "dt_model = dt.fit(train_data)\n",
    "\n",
    "# Step 5: Evaluate the Model on Test Data\n",
    "print(\"Evaluating the Model:\")\n",
    "predictions = dt_model.transform(test_data)\n",
    "\n",
    "# Calculate RMSE and R-squared\n",
    "evaluator_rmse = RegressionEvaluator(labelCol=\"fare_amount\", predictionCol=\"prediction\", metricName=\"rmse\")\n",
    "rmse = evaluator_rmse.evaluate(predictions)\n",
    "\n",
    "evaluator_r2 = RegressionEvaluator(labelCol=\"fare_amount\", predictionCol=\"prediction\", metricName=\"r2\")\n",
    "r2 = evaluator_r2.evaluate(predictions)\n",
    "\n",
    "print(f\"Root Mean Squared Error (RMSE): {rmse}\")\n",
    "print(f\"R-squared (R2): {r2}\")\n",
    "\n",
    "# Display Sample Predictions\n",
    "print(\"Sample Predictions:\")\n",
    "predictions.select(\"features\", \"fare_amount\", \"prediction\").show(5)\n"
   ]
  },
  {
   "cell_type": "code",
   "execution_count": 35,
   "id": "4b594c2d-ce48-404f-9255-dbc06e6e96ca",
   "metadata": {},
   "outputs": [],
   "source": []
  },
  {
   "cell_type": "code",
   "execution_count": null,
   "id": "7f41ddd1-b27f-4554-ae34-eb4a3d9c2545",
   "metadata": {},
   "outputs": [],
   "source": []
  },
  {
   "cell_type": "code",
   "execution_count": null,
   "id": "864baed8-6374-4056-bd82-8542550d6e08",
   "metadata": {},
   "outputs": [],
   "source": []
  }
 ],
 "metadata": {
  "kernelspec": {
   "display_name": "Python 3 (ipykernel)",
   "language": "python",
   "name": "python3"
  },
  "language_info": {
   "codemirror_mode": {
    "name": "ipython",
    "version": 3
   },
   "file_extension": ".py",
   "mimetype": "text/x-python",
   "name": "python",
   "nbconvert_exporter": "python",
   "pygments_lexer": "ipython3",
   "version": "3.10.13"
  }
 },
 "nbformat": 4,
 "nbformat_minor": 5
}
